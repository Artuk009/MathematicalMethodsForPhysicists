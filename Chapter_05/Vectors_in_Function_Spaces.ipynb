{
 "cells": [
  {
   "cell_type": "code",
   "execution_count": 1,
   "id": "661ec00f-bc2e-4b61-bb20-7d9f6df2f869",
   "metadata": {},
   "outputs": [],
   "source": [
    "# Author: Brent Artuch\n",
    "# Date: 2024-10-23\n",
    "\n",
    "import sympy as sp\n",
    "import numpy as np\n",
    "import matplotlib.pyplot as plt\n",
    "\n",
    "sp.init_printing()"
   ]
  },
  {
   "cell_type": "markdown",
   "id": "2e84373b-677e-43f4-b539-b335aebb3234",
   "metadata": {},
   "source": [
    "## Vectors in Function Spaces\n",
    "In a 2-dimensional complex space $\\mathbb{C}^2$, a function can be denoted:\n",
    "\\begin{align*}\n",
    "f(s)=a_1\\varphi_1(s)+a_2\\varphi_2(s)\n",
    "\\end{align*}\n",
    "where $a_1$ and $a_2$ are complex coordinates associated with their respective functions $\\varphi_1$ and $\\varphi_2$."
   ]
  },
  {
   "cell_type": "markdown",
   "id": "3df956b8-65fe-4df2-9d00-cc4ef5235502",
   "metadata": {},
   "source": [
    "The above equation defines a function space (set of functions) that can be built from the basis set $\\{\\varphi_1,\\varphi_2\\}$, which we call the $\\mathbf{linear\\ vector\\ space}$."
   ]
  },
  {
   "cell_type": "markdown",
   "id": "55174a69-6155-402c-81ef-6f95344bb71b",
   "metadata": {},
   "source": [
    "If we have another linear vector space $g(s)$, that is a linear combination of the same basis set $\\{\\varphi_1,\\varphi_2\\}$, denoted:\n",
    "\\begin{align*}\n",
    "g(s)=b_1\\varphi_1(s)+b_2\\varphi_2(s)\n",
    "\\end{align*}\n",
    "Then,\n",
    "\\begin{align*}\n",
    "f(s)+g(s)=(a_1+b_1)\\varphi_1(s)+(a_2+b_2)\\varphi_2(s)\n",
    "\\end{align*}"
   ]
  },
  {
   "cell_type": "markdown",
   "id": "a1c0444c-c627-4697-ac5e-43ca2a57e5a2",
   "metadata": {},
   "source": [
    "Also, if we have a real or complex scalar $k$, then:\n",
    "\\begin{align*}\n",
    "kf(s)=ka_1\\varphi_1(s)+ka_2\\varphi_2(s)\n",
    "\\end{align*}"
   ]
  }
 ],
 "metadata": {
  "kernelspec": {
   "display_name": "Math_Methods_Phys_venv",
   "language": "python",
   "name": "math_methods_phys_venv"
  },
  "language_info": {
   "codemirror_mode": {
    "name": "ipython",
    "version": 3
   },
   "file_extension": ".py",
   "mimetype": "text/x-python",
   "name": "python",
   "nbconvert_exporter": "python",
   "pygments_lexer": "ipython3",
   "version": "3.12.7"
  }
 },
 "nbformat": 4,
 "nbformat_minor": 5
}
