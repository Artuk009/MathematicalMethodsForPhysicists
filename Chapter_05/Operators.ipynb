{
 "cells": [
  {
   "cell_type": "code",
   "execution_count": 1,
   "id": "63aa940c-02d1-4d56-ab76-673916a85b8e",
   "metadata": {},
   "outputs": [],
   "source": [
    "# Author: Brent Artuch\n",
    "# Date: 2024-10-31"
   ]
  },
  {
   "cell_type": "markdown",
   "id": "910aec52-331c-42a8-a255-7756f3991dcb",
   "metadata": {},
   "source": [
    "## Commutation of Operators\n",
    "Given linear operators $A$, $B$, and $C$:\n",
    "\\begin{align*}\n",
    "[A,B]&=AB-BA\\\\\n",
    "[A,B]&=-[A,B]\\\\\n",
    "[A,B+C]&=[A,B]+[A,C]\\\\\n",
    "k[A,B]&=[kA,B]=[A,kB]\\\\\n",
    "\\end{align*}\n",
    "where $k$ is a constant scalar."
   ]
  },
  {
   "cell_type": "markdown",
   "id": "7679f707-c501-4284-b324-5df6752963c0",
   "metadata": {},
   "source": [
    "## Identity, Inverse, Adjoint\n",
    "The $\\mathbf{identity}$ operator is equivelant to multiplying a constant by $1$, leaving the constant unchanged:\n",
    "\\begin{align*}\n",
    "A^{-1}A=AA^{-1}=I=1\n",
    "\\end{align*}\n",
    "where $A$ is a matrix and $I$ is the identity matrix. "
   ]
  },
  {
   "cell_type": "markdown",
   "id": "1184d474-14b3-4aa7-8d9b-f9da87e7d44c",
   "metadata": {},
   "source": [
    "The $\\mathbf{adjoint}$ operator is th conjugate transpose of a matrix or vector:\n",
    "\\begin{align*}\n",
    "A^\\dagger=\\braket{f|Ag}=\\braket{A^\\dagger f|g}\n",
    "\\end{align*}\n",
    "where $f$ and $g$ are functions in the Hilbert space."
   ]
  },
  {
   "cell_type": "markdown",
   "id": "0736dacf-23b3-435a-834f-9b41d1e23676",
   "metadata": {},
   "source": [
    "If $A=A^\\dagger$, then $A$ is reffered to as self-adjoint or $\\mathbf{Hermition}$:\n",
    "\\begin{align*}\n",
    "\\text{If }H^\\dagger=H\\text{, then }H\\text{ is Hermition.}\n",
    "\\end{align*}\n",
    "and \n",
    "\\begin{align*}\n",
    "\\text{If }H^\\dagger=-H\\text{, then }H\\text{ is anti-Hermition.}\n",
    "\\end{align*}"
   ]
  },
  {
   "cell_type": "markdown",
   "id": "76e59dca-458e-4455-8075-546df49822bf",
   "metadata": {},
   "source": [
    "An operator is $\\mathbf{unitary}$ if its adjoint equals its inverse:\n",
    "\\begin{align*}\n",
    "\\text{If }U^\\dagger=U^{-1}\\text{, then }U\\text{ is Unitary.}\n",
    "\\end{align*}"
   ]
  },
  {
   "cell_type": "markdown",
   "id": "956fae74-d5ab-4aa6-b29a-e2e94b345c43",
   "metadata": {},
   "source": [
    "## Basis Expansions of Operators\n",
    "Consider a collection of basis states $\\{\\ket{u_i}\\}$ that are orthonormal:\n",
    "\\begin{align*}\n",
    "\\braket{u_i|u_k}=\\delta_{ik}\n",
    "\\end{align*}"
   ]
  },
  {
   "cell_type": "markdown",
   "id": "7bc827e9-bf10-4f58-9e48-c2c4a5d2c9a0",
   "metadata": {},
   "source": [
    "We can write any state $\\ket{\\psi}$ in terms of this set of basis vectors as:\n",
    "\\begin{align*}\n",
    "\\ket{\\psi}=\\sum_{i}c_i\\ket{u_i}\n",
    "\\end{align*}\n",
    "where $c_i$ is the amplitude of each basis state $\\ket{u_i}$ and these coefficients are defined as:\n",
    "\\begin{align*}\n",
    "c_i=\\braket{u_i|\\psi}\n",
    "\\end{align*}"
   ]
  },
  {
   "cell_type": "markdown",
   "id": "200c6854-2739-4894-9017-8dd5011503a9",
   "metadata": {},
   "source": [
    "We can write the conjugate of $\\ket{\\psi}$ as:\n",
    "\\begin{align*}\n",
    "\\bra{\\psi}=\\sum_{i}c_i^*\\bra{u_i}\n",
    "\\end{align*}\n",
    "and the coefficients as:\n",
    "\\begin{align*}\n",
    "c_i^*=\\braket{\\psi|u_i}\n",
    "\\end{align*}"
   ]
  },
  {
   "cell_type": "markdown",
   "id": "0c182fa1-8ece-4795-a796-31fec172fd58",
   "metadata": {},
   "source": [
    "Lastly, we can write a linear operator $\\hat{A}$ in this basis as:\n",
    "\\begin{align*}\n",
    "\\hat{A}=\\sum_{i,j}A_{ij}\\ket{u_i}\\bra{u_k}\n",
    "\\end{align*}\n",
    "where the coefficients are defined as:\n",
    "\\begin{align*}\n",
    "A_{ij}=\\bra{u_i}\\hat{A}\\ket{u_k}\n",
    "\\end{align*}"
   ]
  }
 ],
 "metadata": {
  "kernelspec": {
   "display_name": "MathMethodsForPhysics_venv",
   "language": "python",
   "name": "mathmethodsforphysics_venv"
  },
  "language_info": {
   "codemirror_mode": {
    "name": "ipython",
    "version": 3
   },
   "file_extension": ".py",
   "mimetype": "text/x-python",
   "name": "python",
   "nbconvert_exporter": "python",
   "pygments_lexer": "ipython3",
   "version": "3.10.14"
  }
 },
 "nbformat": 4,
 "nbformat_minor": 5
}
