{
 "cells": [
  {
   "cell_type": "code",
   "execution_count": 1,
   "id": "f6c34c92-2b46-4566-9821-87b3aa489177",
   "metadata": {},
   "outputs": [],
   "source": [
    "# Author: Brent Artuch\n",
    "# Date: 2024-10-13\n",
    "\n",
    "import sympy as sp\n",
    "import numpy as np\n",
    "import matplotlib.pyplot as plt\n",
    "\n",
    "sp.init_printing()"
   ]
  },
  {
   "cell_type": "markdown",
   "id": "56862e36-3803-4630-808d-f47a5553ae7a",
   "metadata": {},
   "source": [
    "## Eigenvalue Equations\n",
    "The basic eigenvalue equation is denoted:<br>\n",
    "\\begin{align*}\n",
    "A\\ket{\\psi}=\\lambda\\ket{\\psi}\n",
    "\\end{align*}\n",
    "where $A$ (known) is a linear operator in a Hilbert Space, $\\psi$ (unknown) is a function in the space called the eigenvector, and $\\lambda$ (unknown) is a constant called the eigenvalue.<br>\n",
    "<br>\n",
    "Example:<br>\n",
    "Let $A=\\begin{bmatrix} -3 & 1 \\\\ -2 & 0 \\end{bmatrix}$ and $\\ket{x}=\\begin{bmatrix} 1 \\\\ 1 \\end{bmatrix}$. We need to verify that $A\\ket{x}=\\lambda\\ket{x}$<br>\n",
    "Solution:<br>\n",
    "\\begin{align*}\n",
    "A\\ket{x}=\\begin{bmatrix} -3 & 1 \\\\ -2 & 0 \\end{bmatrix}\\begin{bmatrix} 1 \\\\ 1 \\end{bmatrix}=\\begin{bmatrix} -3(1) + 1(1) \\\\ -2(1) + 0(1) \\end{bmatrix}=\\begin{bmatrix} -2 \\\\ -2 \\end{bmatrix}=-2\\begin{bmatrix} 1 \\\\ 1 \\end{bmatrix}\n",
    "\\end{align*}\n",
    "So, we have confirmed that $\\ket{x}$ is an eigenvector and that the eignevalue $\\lambda=-2$<br>"
   ]
  },
  {
   "cell_type": "code",
   "execution_count": 2,
   "id": "e981882b-f462-4041-9577-58bfce2adb48",
   "metadata": {},
   "outputs": [
    {
     "data": {
      "image/png": "[encoded data removed]",
      "text/latex": [
       "$\\displaystyle \\left( \\left[ \\left( -2, \\  1, \\  \\left[ \\left[\\begin{matrix}1\\\\1\\end{matrix}\\right]\\right]\\right), \\  \\left( -1, \\  1, \\  \\left[ \\left[\\begin{matrix}\\frac{1}{2}\\\\1\\end{matrix}\\right]\\right]\\right)\\right], \\  \\left\\{ -2 : 1, \\  -1 : 1\\right\\}\\right)$"
      ],
      "text/plain": [
       "⎛⎡⎛       ⎡⎡1⎤⎤⎞  ⎛       ⎡⎡1/2⎤⎤⎞⎤                ⎞\n",
       "⎜⎢⎜-2, 1, ⎢⎢ ⎥⎥⎟, ⎜-1, 1, ⎢⎢   ⎥⎥⎟⎥, {-2: 1, -1: 1}⎟\n",
       "⎝⎣⎝       ⎣⎣1⎦⎦⎠  ⎝       ⎣⎣ 1 ⎦⎦⎠⎦                ⎠"
      ]
     },
     "execution_count": 2,
     "metadata": {},
     "output_type": "execute_result"
    }
   ],
   "source": [
    "# Using sympy, numpy, or scipy, we only need the matrix to find these values.\n",
    "A = sp.Matrix([[-3,1],[-2,0]])\n",
    "A.eigenvects(),A.eigenvals()"
   ]
  },
  {
   "cell_type": "markdown",
   "id": "7a632ff1-a2cb-45d9-bf79-c92f8aa1c4fc",
   "metadata": {},
   "source": [
    "We can rewrite the equation in the following way to solve it:<br>\n",
    "\\begin{align*}\n",
    "A\\ket{\\psi}&=\\lambda\\ket{\\psi}\\\\\n",
    "A\\ket{\\psi}-\\lambda\\ket{\\psi}&=0\\\\\n",
    "&*\\text{ Insert the Identity Matrix }I\\\\\n",
    "A\\ket{\\psi}-\\lambda I\\ket{\\psi}&=0\\\\\n",
    "(A-\\lambda I)\\ket{\\psi}&=0\\\\\n",
    "\\end{align*}\n",
    "ST $\\ket{\\psi}\\not=0$ and the determinant of $A-\\lambda I$ must be zero.\n",
    "Eigenvalues can be found using the equation:<br>\n",
    "\\begin{align*}\n",
    "|A-\\lambda I|=0\n",
    "\\end{align*}\n",
    "Recall that for a matrix $A$, $|A|=det(A)$ or the determinant of $A$.<br>\n",
    "<br>\n",
    "Example: <br>\n",
    "Let $A=\\begin{bmatrix} 1 & 1 \\\\ 4 & 1 \\end{bmatrix}$. Find the eigenvalues.<br>\n",
    "\\begin{align*}\n",
    "A-\\lambda I=\\begin{bmatrix} 1 & 1 \\\\ 4 & 1 \\end{bmatrix}-\\lambda\\begin{bmatrix} 1 & 0 \\\\ 0 & 1 \\end{bmatrix}=\\begin{bmatrix} 1 & 1 \\\\ 4 & 1 \\end{bmatrix}-\\begin{bmatrix} \\lambda & 0 \\\\ 0 & \\lambda \\end{bmatrix}=\\begin{bmatrix} 1-\\lambda & 1 \\\\ 4 & 1-\\lambda \\end{bmatrix}\n",
    "\\end{align*}\n",
    "Now, we take the determinant of this matrix and set it equal to $0$:\n",
    "\\begin{align*}\n",
    "\\left|\\begin{matrix} 1-\\lambda & 1 \\\\ 4 & 1-\\lambda \\end{matrix}\\right|&=0\\\\\n",
    "(1-\\lambda)(1-\\lambda)-(4)(1)&=0\\\\\n",
    "1-2\\lambda+\\lambda^2-4&=0\\\\\n",
    "\\lambda^2-2\\lambda-3&=0\\\\\n",
    "(\\lambda-3)(\\lambda+1)&=0\\\\\n",
    "\\end{align*}\n",
    "So, $\\lambda=3$ and $\\lambda=-1$ are the eigenvalues of $A$."
   ]
  },
  {
   "cell_type": "code",
   "execution_count": 3,
   "id": "6e20524a-6a4b-4d84-be0d-9bd5846dc8bc",
   "metadata": {},
   "outputs": [
    {
     "data": {
      "image/png": "[encoded data removed]",
      "text/latex": [
       "$\\displaystyle \\left( \\left[ \\left( -1, \\  1, \\  \\left[ \\left[\\begin{matrix}- \\frac{1}{2}\\\\1\\end{matrix}\\right]\\right]\\right), \\  \\left( 3, \\  1, \\  \\left[ \\left[\\begin{matrix}\\frac{1}{2}\\\\1\\end{matrix}\\right]\\right]\\right)\\right], \\  \\left\\{ -1 : 1, \\  3 : 1\\right\\}\\right)$"
      ],
      "text/plain": [
       "⎛⎡⎛       ⎡⎡-1/2⎤⎤⎞  ⎛      ⎡⎡1/2⎤⎤⎞⎤               ⎞\n",
       "⎜⎢⎜-1, 1, ⎢⎢    ⎥⎥⎟, ⎜3, 1, ⎢⎢   ⎥⎥⎟⎥, {-1: 1, 3: 1}⎟\n",
       "⎝⎣⎝       ⎣⎣ 1  ⎦⎦⎠  ⎝      ⎣⎣ 1 ⎦⎦⎠⎦               ⎠"
      ]
     },
     "execution_count": 3,
     "metadata": {},
     "output_type": "execute_result"
    }
   ],
   "source": [
    "# Confirm results\n",
    "A = sp.Matrix([[1,1],[4,1]])\n",
    "A.eigenvects(),A.eigenvals()"
   ]
  }
 ],
 "metadata": {
  "kernelspec": {
   "display_name": "Math_Methods_Phys_venv",
   "language": "python",
   "name": "math_methods_phys_venv"
  },
  "language_info": {
   "codemirror_mode": {
    "name": "ipython",
    "version": 3
   },
   "file_extension": ".py",
   "mimetype": "text/x-python",
   "name": "python",
   "nbconvert_exporter": "python",
   "pygments_lexer": "ipython3",
   "version": "3.12.7"
  }
 },
 "nbformat": 4,
 "nbformat_minor": 5
}
