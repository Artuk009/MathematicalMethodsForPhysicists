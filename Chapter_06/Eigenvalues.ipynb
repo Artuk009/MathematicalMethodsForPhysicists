{
 "cells": [
  {
   "cell_type": "code",
   "execution_count": 2,
   "id": "f6c34c92-2b46-4566-9821-87b3aa489177",
   "metadata": {},
   "outputs": [],
   "source": [
    "# Author: Brent Artuch\n",
    "# Date: 2024-10-13\n",
    "\n",
    "import sympy as sp\n",
    "import numpy as np\n",
    "import matplotlib.pyplot as plt\n",
    "\n",
    "sp.init_printing()"
   ]
  },
  {
   "cell_type": "markdown",
   "id": "56862e36-3803-4630-808d-f47a5553ae7a",
   "metadata": {},
   "source": [
    "## Eigenvalue Equations\n",
    "The basic eigenvalue equation is denoted:<br>\n",
    "\\begin{align*}\n",
    "A\\psi=\\lambda\\psi\n",
    "\\end{align*}\n",
    "where $A$ (known) is a linear operator in a Hilbert Space, $\\psi$ (unknown) is a function in the space called the eigenvector, and $\\lambda$ (unknown) is a constant called the eigenvalue."
   ]
  },
  {
   "cell_type": "code",
   "execution_count": null,
   "id": "e981882b-f462-4041-9577-58bfce2adb48",
   "metadata": {},
   "outputs": [],
   "source": []
  }
 ],
 "metadata": {
  "kernelspec": {
   "display_name": "Math_Methods_Phys_venv",
   "language": "python",
   "name": "math_methods_phys_venv"
  },
  "language_info": {
   "codemirror_mode": {
    "name": "ipython",
    "version": 3
   },
   "file_extension": ".py",
   "mimetype": "text/x-python",
   "name": "python",
   "nbconvert_exporter": "python",
   "pygments_lexer": "ipython3",
   "version": "3.12.7"
  }
 },
 "nbformat": 4,
 "nbformat_minor": 5
}
