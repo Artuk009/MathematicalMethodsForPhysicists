{
 "cells": [
  {
   "cell_type": "code",
   "execution_count": 1,
   "id": "2eaa117b-f68f-4cc3-9925-dd20d9ee239c",
   "metadata": {},
   "outputs": [],
   "source": [
    "# Author: Brent Artuch\n",
    "# Date: 2024-10-26\n",
    "\n",
    "import sympy as sp\n",
    "from sympy.vector import CoordSys3D\n",
    "import numpy as np\n",
    "\n",
    "sp.init_printing()"
   ]
  },
  {
   "cell_type": "markdown",
   "id": "af5ad4ce-aa34-48d8-b570-926915cc1194",
   "metadata": {},
   "source": [
    "## Gradient\n",
    "The gradient operator $\\vec{\\nabla}$ is a vector that has partial derivatives as components:\n",
    "\\begin{align*}\n",
    "\\vec{\\nabla}=\\hat{i}\\frac{\\partial}{\\partial x}+\\hat{j}\\frac{\\partial}{\\partial y}+\\hat{k}\\frac{\\partial}{\\partial z}\n",
    "\\end{align*}"
   ]
  },
  {
   "cell_type": "markdown",
   "id": "3f4e9424-c318-4f9a-8c90-8de5cfe85909",
   "metadata": {},
   "source": [
    "The gradient operator acts on multivariable functions to create the gradient vector:\n",
    "\\begin{align*}\n",
    "\\vec{\\nabla}f=\\hat{i}\\frac{\\partial f}{\\partial x}+\\hat{j}\\frac{\\partial f}{\\partial y}+\\hat{k}\\frac{\\partial f}{\\partial z}\n",
    "\\end{align*}"
   ]
  },
  {
   "cell_type": "markdown",
   "id": "76193507-9309-466a-9579-ba4716160af0",
   "metadata": {},
   "source": [
    "Example - Find the gradient of $f(x,y,z)=z^2-xy$:\n",
    "\\begin{align*}\n",
    "\\vec{\\nabla}f&=\\hat{i}\\frac{\\partial }{\\partial x}(z^2-xy)+\\hat{j}\\frac{\\partial }{\\partial y}(z^2-xy)+\\hat{k}\\frac{\\partial }{\\partial z}(z^2-xy)\\\\\n",
    "&=-y\\hat{i}-x\\hat{j}+2z\\hat{k}\n",
    "\\end{align*}"
   ]
  },
  {
   "cell_type": "code",
   "execution_count": 2,
   "id": "7e924bf9-4856-40c7-a5c5-9233c1908342",
   "metadata": {},
   "outputs": [
    {
     "data": {
      "image/png": "[encoded data removed]",
      "text/latex": [
       "$\\displaystyle \\left( - y, \\  - x, \\  2 z\\right)$"
      ],
      "text/plain": [
       "(-y, -x, 2⋅z)"
      ]
     },
     "execution_count": 2,
     "metadata": {},
     "output_type": "execute_result"
    }
   ],
   "source": [
    "# Define the function\n",
    "x, y, z = sp.symbols('x y z')\n",
    "\n",
    "def cartesian_gradient(f):\n",
    "    return (f.diff(x), f.diff(y),f.diff(z))\n",
    "    \n",
    "fxyz = z**2 -x*y\n",
    "\n",
    "# Calculate the gradient\n",
    "grad_f = cartesian_gradient(fxyz)\n",
    "grad_f"
   ]
  },
  {
   "cell_type": "markdown",
   "id": "1761a296-da77-475b-b357-f5731c633c2c",
   "metadata": {},
   "source": [
    "In spherical coordinates, the gradient vector is:\n",
    "\\begin{align*}\n",
    "\\vec{\\nabla}f=\\hat{r}\\frac{\\partial f}{\\partial r}+\\hat{\\theta}\\frac{1}{r\\sin \\varphi}\\frac{\\partial f}{\\partial \\theta}+\\hat{\\varphi}\\frac{1}{r}\\frac{\\partial f}{\\partial \\varphi}\n",
    "\\end{align*}"
   ]
  },
  {
   "cell_type": "markdown",
   "id": "6e265341-5f5a-48b3-9c3c-6499a09776fc",
   "metadata": {},
   "source": [
    "Example - Find the gradient of $g(r,\\theta,\\varphi)=r^2\\sin\\theta$\n",
    "\\begin{align*}\n",
    "\\vec{\\nabla}g&=\\hat{r}\\frac{\\partial }{\\partial r}(r^2\\sin\\theta)+\\hat{\\theta}\\frac{1}{r\\sin \\varphi}\\frac{\\partial }{\\partial \\theta}(r^2\\sin\\theta)+\\hat{\\varphi}\\frac{1}{r}\\frac{\\partial }{\\partial \\varphi}(r^2\\sin\\theta)\\\\\n",
    "&=2r\\hat{r}\\sin\\theta+\\frac{r^2\\cos\\theta}{r\\sin\\theta}\\hat{\\theta}+\\frac{r^2\\sin\\theta}{r}\\hat{\\varphi}(0)\\\\\n",
    "&=2r\\hat{r}\\sin\\theta+\\frac{r^2\\cos\\theta}{r\\sin\\theta}\\hat{\\theta}\n",
    "\\end{align*}"
   ]
  },
  {
   "cell_type": "code",
   "execution_count": 3,
   "id": "ba6838de-af8e-4b14-9de8-6836cd89fba3",
   "metadata": {},
   "outputs": [
    {
     "data": {
      "image/png": "[encoded data removed]",
      "text/latex": [
       "$\\displaystyle \\left( 2 r \\sin{\\left(\\theta \\right)}, \\  \\frac{r \\cos{\\left(\\theta \\right)}}{\\sin{\\left(\\phi \\right)}}, \\  0\\right)$"
      ],
      "text/plain": [
       "⎛            r⋅cos(θ)   ⎞\n",
       "⎜2⋅r⋅sin(θ), ────────, 0⎟\n",
       "⎝             sin(φ)    ⎠"
      ]
     },
     "execution_count": 3,
     "metadata": {},
     "output_type": "execute_result"
    }
   ],
   "source": [
    "# With Python\n",
    "# Define the function\n",
    "r, theta, phi = sp.symbols('r, theta, phi ')\n",
    "\n",
    "def spherical_gradient(g):\n",
    "    return (g.diff(r),(1/(r*sp.sin(phi)))*g.diff(theta),(1/r)*g.diff(phi))\n",
    "    \n",
    "g = r**2*sp.sin(theta)\n",
    "\n",
    "# Calculate the gradient\n",
    "grad_g = spherical_gradient(g)\n",
    "grad_g"
   ]
  },
  {
   "cell_type": "markdown",
   "id": "52c2e1cd-f5cc-4dbf-8891-dab641589205",
   "metadata": {},
   "source": [
    "In cylindrical coordinates, the gradient vector is:\n",
    "\\begin{align*}\n",
    "\\vec{\\nabla}f=\\hat{r_c}\\frac{\\partial f}{\\partial r_c}+\\hat{\\theta}\\frac{1}{r_c}\\frac{\\partial f}{\\partial \\theta}+\\hat{k}\\frac{\\partial f}{\\partial \\varphi}\n",
    "\\end{align*}"
   ]
  }
 ],
 "metadata": {
  "kernelspec": {
   "display_name": "Math_Methods_Phys_venv",
   "language": "python",
   "name": "math_methods_phys_venv"
  },
  "language_info": {
   "codemirror_mode": {
    "name": "ipython",
    "version": 3
   },
   "file_extension": ".py",
   "mimetype": "text/x-python",
   "name": "python",
   "nbconvert_exporter": "python",
   "pygments_lexer": "ipython3",
   "version": "3.12.7"
  }
 },
 "nbformat": 4,
 "nbformat_minor": 5
}
