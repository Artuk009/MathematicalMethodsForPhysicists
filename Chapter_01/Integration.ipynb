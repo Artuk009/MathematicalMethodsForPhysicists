{
 "cells": [
  {
   "cell_type": "code",
   "execution_count": 1,
   "id": "098d83a4-0532-46bb-b43b-2d9af55cb87e",
   "metadata": {},
   "outputs": [],
   "source": [
    "# Author: Brent Artuch\n",
    "# Date: 2024-10-24\n",
    "\n",
    "import sympy as sp\n",
    "import numpy as np\n",
    "\n",
    "sp.init_printing()"
   ]
  },
  {
   "cell_type": "markdown",
   "id": "7179edd5-5d6e-4914-892d-f064feafadc1",
   "metadata": {},
   "source": [
    "## Indefinite Integrals\n",
    "If $f(x)$ is the result of the derivative with respect to $x$ of a function $g(x)$ denoted:\n",
    "\\begin{align*}\n",
    "f(x)=\\frac{d}{dx}g(x)\n",
    "\\end{align*}\n",
    "Then the antiderivative or integral of $f(x)$ with respect to $x$ is:\n",
    "\\begin{align*}\n",
    "\\int f(x)dx=g(x)+c\n",
    "\\end{align*}\n",
    "where $c$ is the constant of integration."
   ]
  },
  {
   "cell_type": "markdown",
   "id": "f89cd711-08ec-4655-a941-8a5d74f511a1",
   "metadata": {},
   "source": [
    "Example: Let $g(x)=x^4$,\n",
    "\\begin{align*}\n",
    "\\frac{d}{dx}\\left(x^4\\right)=4x^3\n",
    "\\end{align*}\n",
    "and \n",
    "\\begin{align*}\n",
    "\\int 4x^3dx=x^4+c\n",
    "\\end{align*}"
   ]
  },
  {
   "cell_type": "code",
   "execution_count": 2,
   "id": "996d3258-3e0c-4d9b-bdfa-03bd3976dd04",
   "metadata": {},
   "outputs": [
    {
     "data": {
      "image/png": "[encoded data removed]",
      "text/latex": [
       "$\\displaystyle x^{4}$"
      ],
      "text/plain": [
       " 4\n",
       "x "
      ]
     },
     "execution_count": 2,
     "metadata": {},
     "output_type": "execute_result"
    }
   ],
   "source": [
    "# With Python\n",
    "x = sp.symbols('x')\n",
    "fx = sp.diff(x**4,x)\n",
    "sp.integrate(fx,x)"
   ]
  },
  {
   "cell_type": "markdown",
   "id": "24633ed1-f33a-4281-81b4-7339a2cc2e83",
   "metadata": {},
   "source": [
    "## Definite Integral\n",
    "A definite integral includes limits that specify an interval $(a,b)$ where the result is the difference between the upper bound and lower bound functions denoted:\n",
    "\\begin{align*}\n",
    "\\int_{a}^{b}f(x)dx=g(b)-g(a)\n",
    "\\end{align*}"
   ]
  },
  {
   "cell_type": "markdown",
   "id": "3ef01e91-0196-47a8-9bd5-019cc40a64d2",
   "metadata": {},
   "source": [
    "Example - Perform the following integral:\n",
    "\\begin{align*}\n",
    "\\int_{1}^{2}9x^2dx&=\\frac{9x^{2+1}}{2+1}\\Big|_1^2=\\frac{9x^3}{3}\\Big|_1^2=3x^3\\Big|_1^2\\\\\n",
    "\\end{align*}\n",
    "then subtract the two boundry functions:\n",
    "\\begin{align*}\n",
    "3x^3\\Big|_1^2=3(2)^3-3(1)^3=3(8)-3(1)=24-3=21\n",
    "\\end{align*}"
   ]
  },
  {
   "cell_type": "code",
   "execution_count": 3,
   "id": "2441816c-4c48-4024-9da1-80b142648345",
   "metadata": {},
   "outputs": [
    {
     "data": {
      "image/png": "[encoded data removed]",
      "text/latex": [
       "$\\displaystyle 21$"
      ],
      "text/plain": [
       "21"
      ]
     },
     "execution_count": 3,
     "metadata": {},
     "output_type": "execute_result"
    }
   ],
   "source": [
    "# With Python\n",
    "x = sp.symbols('x')\n",
    "fx = 9*x**2\n",
    "sp.integrate(fx,(x,1,2))"
   ]
  },
  {
   "cell_type": "markdown",
   "id": "58b107b4-fc4b-47a9-830a-c429daedb423",
   "metadata": {},
   "source": [
    "## Integrals of Trig Functions\n",
    "The antiderivatives of the basic trig functions are:\n",
    "\\begin{align*}\n",
    "\\int\\sin\\theta d\\theta=-\\cos\\theta + c \\ \\ \\ &, \\ \\ \\ \\int\\cos\\theta d\\theta=\\sin\\theta + c \\\\\n",
    "\\int\\tan\\theta d\\theta=\\ln[\\sec\\theta] + c \\ \\ \\ &, \\ \\ \\ \\int\\sec\\theta d\\theta=\\ln[\\sec\\theta+\\tan\\theta] + c \\\\\n",
    "\\int\\cot\\theta d\\theta=\\ln[\\sin\\theta] + c \\ \\ \\ &, \\ \\ \\ \\int\\csc\\theta d\\theta=-\\ln[\\csc\\theta+\\cot\\theta] + c \\\\\n",
    "\\end{align*}"
   ]
  },
  {
   "cell_type": "markdown",
   "id": "0e847976-d4ad-4836-a49e-80079c7b4077",
   "metadata": {},
   "source": [
    "Example - Perform the following integral:\n",
    "\\begin{align*}\n",
    "\\int_0^{\\pi/2}\\cos\\theta d\\theta=\\sin\\theta\\Big|_{0}^{\\pi/2}=\\sin{\\left(\\frac{\\pi}{2}\\right)}-\\sin{\\left(0\\right)}=1-0=1\n",
    "\\end{align*}"
   ]
  },
  {
   "cell_type": "code",
   "execution_count": 4,
   "id": "40b9409b-9766-4917-bc06-a0098753791d",
   "metadata": {},
   "outputs": [
    {
     "data": {
      "image/png": "[encoded data removed]",
      "text/latex": [
       "$\\displaystyle 1$"
      ],
      "text/plain": [
       "1"
      ]
     },
     "execution_count": 4,
     "metadata": {},
     "output_type": "execute_result"
    }
   ],
   "source": [
    "# With Pytbon\n",
    "theta = sp.symbols(\"theta\")\n",
    "ftheta = sp.cos(theta)\n",
    "sp.integrate(ftheta,(theta,0,(sp.pi/2)))"
   ]
  },
  {
   "cell_type": "markdown",
   "id": "30000578-9d9c-493a-8d89-fcd3770db258",
   "metadata": {},
   "source": [
    "## Integrals of Exponentials and Logarithms\n",
    "The integrals of of basic exponential, logarithm, and power functions:\n",
    "\\begin{align*}\n",
    "\\int e^{ax}dx=\\frac{e^{ax}}{a}+c \\ \\ \\ , \\ \\ \\ \\int\\ln xdx=x\\ln x-x+c \\ \\ \\ , \\ \\ \\ \\int b^x dx=\\frac{b^x}{\\ln b}+c \n",
    "\\end{align*}\n",
    "And the integrals of hyperbolic functions are:\n",
    "\\begin{align*}\n",
    "\\int\\sinh xdx=\\cosh x+c \\ \\ \\ , \\ \\ \\ \\int\\cosh xdx=\\sinh x+c \\ \\ \\ , \\ \\ \\ \\int\\tanh dx=\\ln[\\cosh x]+c\n",
    "\\end{align*}"
   ]
  },
  {
   "cell_type": "markdown",
   "id": "1813e86f-a077-4f47-a91f-f88db8b89cf5",
   "metadata": {},
   "source": [
    "Example - Perform the following integral:\n",
    "\\begin{align*}\n",
    "\\int_{0}^{1}\\sinh xdx=\\cosh\\Big|_0^1=\\cosh(1)-\\cosh(0)=1.543-1\\approx 0.543\n",
    "\\end{align*}"
   ]
  },
  {
   "cell_type": "code",
   "execution_count": 5,
   "id": "63f3f85c-bc55-4b89-8f4b-e263359498fc",
   "metadata": {},
   "outputs": [
    {
     "data": {
      "image/png": "[encoded data removed]",
      "text/latex": [
       "$\\displaystyle \\left( \\cosh{\\left(x \\right)}, \\  0.543\\right)$"
      ],
      "text/plain": [
       "(cosh(x), 0.543)"
      ]
     },
     "execution_count": 5,
     "metadata": {},
     "output_type": "execute_result"
    }
   ],
   "source": [
    "# With Python\n",
    "x = sp.symbols(\"x\")\n",
    "fx = sp.sinh(x)\n",
    "result = sp.integrate(fx,x)\n",
    "result, round(np.cosh(1) - np.cosh(0),3)"
   ]
  },
  {
   "cell_type": "markdown",
   "id": "54c47f48-45bf-43b4-87b2-e586fcc0c45f",
   "metadata": {},
   "source": [
    "## Gaussian Integrals\n",
    "The Gaussian integral is the integral of the Gaussian function:\n",
    "\\begin{align*}\n",
    "f(x)=e^{-x^2}\n",
    "\\end{align*}\n",
    "defined as:\n",
    "\\begin{align*}\n",
    "\\int_{-\\infty}^{\\infty}e^{-x^2}dx=\\sqrt{\\pi}\n",
    "\\end{align*}"
   ]
  },
  {
   "cell_type": "markdown",
   "id": "9c537958-e9e5-40e0-b812-f52dcc0082f7",
   "metadata": {},
   "source": [
    "Further, the definite integral of an arbitrary Gaussian function is:\n",
    "\\begin{align*}\n",
    "\\int_{-\\infty}^{\\infty}e^{-a(x+b)^2}dx=\\sqrt{\\frac{\\pi}{a}}\n",
    "\\end{align*}"
   ]
  },
  {
   "cell_type": "markdown",
   "id": "ba07e21d-6ddc-47b3-b196-85504751e822",
   "metadata": {},
   "source": [
    "## Integrals of Even and Odd Functions\n",
    "A function is $\\mathbf{even}$ if for every $x$ in its domain:\n",
    "\\begin{align*}\n",
    "f(-x)=f(x)\n",
    "\\end{align*}"
   ]
  },
  {
   "cell_type": "markdown",
   "id": "1f30aff4-5fb1-4340-9184-1cbdd79dec8d",
   "metadata": {},
   "source": [
    "A function is $\\mathbf{odd}$ if for every $x$ in its domain:\n",
    "\\begin{align*}\n",
    "f(-x)=-f(x)\n",
    "\\end{align*}"
   ]
  },
  {
   "cell_type": "markdown",
   "id": "9bdc786a-b029-4ec0-b489-ce7347b00678",
   "metadata": {},
   "source": [
    "The integral of an even function from $-a$ to $a$ where $a\\ge 0$:\n",
    "\\begin{align*}\n",
    "\\int_{-a}^{a}f(x)dx=2\\int_{0}^{a}f(x)dx\n",
    "\\end{align*}\n",
    "and if the function is odd:\n",
    "\\begin{align*}\n",
    "\\int_{-a}^{a}f(x)dx=0\n",
    "\\end{align*}"
   ]
  },
  {
   "cell_type": "markdown",
   "id": "f3b53492-1999-4b07-b2f2-528e0c343cbf",
   "metadata": {},
   "source": [
    "Example:\n",
    "\\begin{align*}\n",
    "\\int_{-\\pi}^{\\pi}\\sin(x)dx\n",
    "\\end{align*}"
   ]
  },
  {
   "cell_type": "markdown",
   "id": "0be6e09f-9234-42a7-be12-e03d51cc3adc",
   "metadata": {},
   "source": [
    "Check the parity of the function:\n",
    "\\begin{align*}\n",
    "f(x)&=\\sin(x)\\\\\n",
    "f(-x)&=\\sin(-x)\\\\\n",
    "f(-1)&=-\\sin(1)\\\\\n",
    "f(-x)&=-\\sin(x)\\\\\n",
    "f(-x)&=-f(x)\n",
    "\\end{align*}\n",
    "and is therefore an odd function so:\n",
    "\\begin{align*}\n",
    "\\int_{-\\pi}^{\\pi}\\sin(x)dx=0\n",
    "\\end{align*}"
   ]
  },
  {
   "cell_type": "code",
   "execution_count": 6,
   "id": "f04bfabb-3e80-4174-adb1-ae7720de6fa0",
   "metadata": {},
   "outputs": [
    {
     "data": {
      "image/png": "[encoded data removed]",
      "text/latex": [
       "$\\displaystyle 0$"
      ],
      "text/plain": [
       "0"
      ]
     },
     "execution_count": 6,
     "metadata": {},
     "output_type": "execute_result"
    }
   ],
   "source": [
    "# With Python\n",
    "x = sp.symbols('x')\n",
    "fx = sp.sin(x)\n",
    "sp.integrate(fx,(x,-sp.pi,sp.pi))"
   ]
  }
 ],
 "metadata": {
  "kernelspec": {
   "display_name": "Math_Methods_Phys_venv",
   "language": "python",
   "name": "math_methods_phys_venv"
  },
  "language_info": {
   "codemirror_mode": {
    "name": "ipython",
    "version": 3
   },
   "file_extension": ".py",
   "mimetype": "text/x-python",
   "name": "python",
   "nbconvert_exporter": "python",
   "pygments_lexer": "ipython3",
   "version": "3.12.7"
  }
 },
 "nbformat": 4,
 "nbformat_minor": 5
}
