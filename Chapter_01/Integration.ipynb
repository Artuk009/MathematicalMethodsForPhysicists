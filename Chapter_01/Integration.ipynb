{
 "cells": [
  {
   "cell_type": "code",
   "execution_count": 1,
   "id": "098d83a4-0532-46bb-b43b-2d9af55cb87e",
   "metadata": {},
   "outputs": [],
   "source": [
    "# Author: Brent Artuch\n",
    "# Date: 2024-10-24\n",
    "\n",
    "import sympy as sp\n",
    "import numpy as np\n",
    "\n",
    "sp.init_printing()"
   ]
  },
  {
   "cell_type": "markdown",
   "id": "7179edd5-5d6e-4914-892d-f064feafadc1",
   "metadata": {},
   "source": [
    "## Idedefinite Integrals\n",
    "If $f(x)$ is the result of the derivative with respect to $x$ of a function $g(x)$ denoted:\n",
    "\\begin{align*}\n",
    "f(x)=\\frac{d}{dx}g(x)\n",
    "\\end{align*}\n",
    "Then the antiderivative or integral of $f(x)$ with respect to $x$ is:\n",
    "\\begin{align*}\n",
    "\\int f(x)dx=g(x)+c\n",
    "\\end{align*}\n",
    "where $c$ is the constant of integration."
   ]
  },
  {
   "cell_type": "markdown",
   "id": "f89cd711-08ec-4655-a941-8a5d74f511a1",
   "metadata": {},
   "source": [
    "Example: Let $g(x)=x^4$,\n",
    "\\begin{align*}\n",
    "\\frac{d}{dx}\\left(x^4\\right)=4x^3\n",
    "\\end{align*}\n",
    "and \n",
    "\\begin{align*}\n",
    "\\int 4x^3dx=x^4+c\n",
    "\\end{align*}"
   ]
  }
 ],
 "metadata": {
  "kernelspec": {
   "display_name": "MathMethodsForPhysics_venv",
   "language": "python",
   "name": "mathmethodsforphysics_venv"
  },
  "language_info": {
   "codemirror_mode": {
    "name": "ipython",
    "version": 3
   },
   "file_extension": ".py",
   "mimetype": "text/x-python",
   "name": "python",
   "nbconvert_exporter": "python",
   "pygments_lexer": "ipython3",
   "version": "3.10.14"
  }
 },
 "nbformat": 4,
 "nbformat_minor": 5
}
