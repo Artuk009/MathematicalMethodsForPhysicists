{
 "cells": [
  {
   "cell_type": "code",
   "execution_count": 1,
   "id": "098d83a4-0532-46bb-b43b-2d9af55cb87e",
   "metadata": {},
   "outputs": [],
   "source": [
    "# Author: Brent Artuch\n",
    "# Date: 2024-10-24\n",
    "\n",
    "import sympy as sp\n",
    "import numpy as np\n",
    "\n",
    "sp.init_printing()"
   ]
  },
  {
   "cell_type": "markdown",
   "id": "7179edd5-5d6e-4914-892d-f064feafadc1",
   "metadata": {},
   "source": [
    "## Idedefinite Integrals\n",
    "If $f(x)$ is the result of the derivative with respect to $x$ of a function $g(x)$ denoted:\n",
    "\\begin{align*}\n",
    "f(x)=\\frac{d}{dx}g(x)\n",
    "\\end{align*}\n",
    "Then the antiderivative or integral of $f(x)$ with respect to $x$ is:\n",
    "\\begin{align*}\n",
    "\\int f(x)dx=g(x)+c\n",
    "\\end{align*}\n",
    "where $c$ is the constant of integration."
   ]
  },
  {
   "cell_type": "markdown",
   "id": "f89cd711-08ec-4655-a941-8a5d74f511a1",
   "metadata": {},
   "source": [
    "Example: Let $g(x)=x^4$,\n",
    "\\begin{align*}\n",
    "\\frac{d}{dx}\\left(x^4\\right)=4x^3\n",
    "\\end{align*}\n",
    "and \n",
    "\\begin{align*}\n",
    "\\int 4x^3dx=x^4+c\n",
    "\\end{align*}"
   ]
  },
  {
   "cell_type": "code",
   "execution_count": 2,
   "id": "996d3258-3e0c-4d9b-bdfa-03bd3976dd04",
   "metadata": {},
   "outputs": [
    {
     "data": {
      "image/png": "[encoded data removed]",
      "text/latex": [
       "$\\displaystyle x^{4}$"
      ],
      "text/plain": [
       " 4\n",
       "x "
      ]
     },
     "execution_count": 2,
     "metadata": {},
     "output_type": "execute_result"
    }
   ],
   "source": [
    "# With Python\n",
    "x = sp.symbols('x')\n",
    "fx = sp.diff(x**4,x)\n",
    "sp.integrate(fx,x)"
   ]
  },
  {
   "cell_type": "markdown",
   "id": "24633ed1-f33a-4281-81b4-7339a2cc2e83",
   "metadata": {},
   "source": [
    "## Definite Integral\n",
    "A definite integral includes limits that specify an interval $(a,b)$ where the result is the difference between the upper bound and lower bound functions denoted:\n",
    "\\begin{align*}\n",
    "\\int_{a}^{b}f(x)dx=g(b)-g(a)\n",
    "\\end{align*}"
   ]
  },
  {
   "cell_type": "markdown",
   "id": "3ef01e91-0196-47a8-9bd5-019cc40a64d2",
   "metadata": {},
   "source": [
    "Example - Perform the following integral:\n",
    "\\begin{align*}\n",
    "\\int_{1}^{2}9x^2dx&=\\frac{9x^{2+1}}{2+1}\\Big|_1^2=\\frac{9x^3}{3}\\Big|_1^2=3x^3\\Big|_1^2\\\\\n",
    "\\end{align*}\n",
    "then subtract the two boundry functions:\n",
    "\\begin{align*}\n",
    "3x^3\\Big|_1^2=3(2)^3-3(1)^3=3(8)-3(1)=24-3=21\n",
    "\\end{align*}"
   ]
  },
  {
   "cell_type": "code",
   "execution_count": 3,
   "id": "2441816c-4c48-4024-9da1-80b142648345",
   "metadata": {},
   "outputs": [
    {
     "data": {
      "image/png": "[encoded data removed]",
      "text/latex": [
       "$\\displaystyle 21$"
      ],
      "text/plain": [
       "21"
      ]
     },
     "execution_count": 3,
     "metadata": {},
     "output_type": "execute_result"
    }
   ],
   "source": [
    "# With Python\n",
    "x = sp.symbols('x')\n",
    "fx = 9*x**2\n",
    "sp.integrate(fx,(x,1,2))"
   ]
  },
  {
   "cell_type": "markdown",
   "id": "58b107b4-fc4b-47a9-830a-c429daedb423",
   "metadata": {},
   "source": [
    "## Integrals of Trig Functions\n",
    "The antiderivatives of the basic trig functions are:\n",
    "\\begin{align*}\n",
    "\\int\\sin\\theta d\\theta=-\\cos\\theta + c \\ \\ \\ &, \\ \\ \\ \\int\\cos\\theta d\\theta=\\sin\\theta + c \\\\\n",
    "\\int\\tan\\theta d\\theta=\\ln[\\sec\\theta] + c \\ \\ \\ &, \\ \\ \\ \\int\\sec\\theta d\\theta=\\ln[\\sec\\theta+\\tan\\theta] + c \\\\\n",
    "\\int\\cot\\theta d\\theta=\\ln[\\sin\\theta] + c \\ \\ \\ &, \\ \\ \\ \\int\\csc\\theta d\\theta=-\\ln[\\csc\\theta+\\cot\\theta] + c \\\\\n",
    "\\end{align*}"
   ]
  },
  {
   "cell_type": "markdown",
   "id": "0e847976-d4ad-4836-a49e-80079c7b4077",
   "metadata": {},
   "source": [
    "Example - Perform the following integral:\n",
    "\\begin{align*}\n",
    "\\int_0^{\\pi/2}\\cos\\theta d\\theta=\\sin\\theta\\Big|_{0}^{\\pi/2}=\\sin{\\left(\\frac{\\pi}{2}\\right)}-\\sin{\\left(0\\right)}=1-0=1\n",
    "\\end{align*}"
   ]
  },
  {
   "cell_type": "code",
   "execution_count": 4,
   "id": "40b9409b-9766-4917-bc06-a0098753791d",
   "metadata": {},
   "outputs": [
    {
     "data": {
      "image/png": "[encoded data removed]",
      "text/latex": [
       "$\\displaystyle 1$"
      ],
      "text/plain": [
       "1"
      ]
     },
     "execution_count": 4,
     "metadata": {},
     "output_type": "execute_result"
    }
   ],
   "source": [
    "# With Pytbon\n",
    "theta = sp.symbols(\"theta\")\n",
    "ftheta = sp.cos(theta)\n",
    "sp.integrate(ftheta,(theta,0,(sp.pi/2)))"
   ]
  }
 ],
 "metadata": {
  "kernelspec": {
   "display_name": "MathMethodsForPhysics_venv",
   "language": "python",
   "name": "mathmethodsforphysics_venv"
  },
  "language_info": {
   "codemirror_mode": {
    "name": "ipython",
    "version": 3
   },
   "file_extension": ".py",
   "mimetype": "text/x-python",
   "name": "python",
   "nbconvert_exporter": "python",
   "pygments_lexer": "ipython3",
   "version": "3.10.14"
  }
 },
 "nbformat": 4,
 "nbformat_minor": 5
}
