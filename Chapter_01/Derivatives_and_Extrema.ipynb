{
 "cells": [
  {
   "cell_type": "code",
   "execution_count": 1,
   "id": "b38f4708-90d5-446d-acbb-a087bb08c92f",
   "metadata": {},
   "outputs": [],
   "source": [
    "# Author: Brent Artuch\n",
    "# Date: 2024-10-14\n",
    "\n",
    "import sympy as sp\n",
    "import numpy as np\n",
    "import matplotlib.pyplot as plt\n",
    "\n",
    "sp.init_printing()"
   ]
  },
  {
   "cell_type": "markdown",
   "id": "0f40518b-870c-4987-8aaf-be2ce77f85c6",
   "metadata": {},
   "source": [
    "## Definition of a Derivative\n",
    "The definition for finding the derivative a function is:\n",
    "\\begin{align*}\n",
    "\\frac{df}{dx}=\\lim_{h \\to 0}\\frac{f(x+h)-f(x)}{h}\n",
    "\\end{align*}\n",
    "Example:<br>\n",
    "\\begin{align*}\n",
    "\\frac{d}{dx}(x^2)&=\\lim_{h \\to 0}\\frac{(x+h)^2-x^2}{h}\\\\\n",
    "&=\\lim_{h \\to 0}\\frac{(x+h)(x+h)-x^2}{h}\\\\\n",
    "&=\\lim_{h \\to 0}\\frac{x^2+2xh+h^2-x^2}{h}\\\\\n",
    "&=\\lim_{h \\to 0}{2x+h}\\\\\n",
    "&=2x+0=2x\n",
    "\\end{align*}"
   ]
  },
  {
   "cell_type": "code",
   "execution_count": 2,
   "id": "3561fe8c-e5a6-4f13-aedb-e575b84d06b9",
   "metadata": {},
   "outputs": [
    {
     "data": {
      "image/png": "[encoded data removed]",
      "text/latex": [
       "$\\displaystyle 2 x$"
      ],
      "text/plain": [
       "2⋅x"
      ]
     },
     "execution_count": 2,
     "metadata": {},
     "output_type": "execute_result"
    }
   ],
   "source": [
    "# With Code\n",
    "x = sp.symbols(\"x\")\n",
    "f = x**2\n",
    "derivative = sp.diff(f,x)\n",
    "derivative"
   ]
  },
  {
   "cell_type": "markdown",
   "id": "d43b8503-7400-47d3-bf46-c59d1b5cc40c",
   "metadata": {},
   "source": [
    "Many properties of this equation have been observed and are used to simplify the process of finding the derivative of a function(s)."
   ]
  },
  {
   "cell_type": "markdown",
   "id": "449a1973-e40c-4682-b3cf-28744da31367",
   "metadata": {},
   "source": [
    "## Derivatives of Polynomials (The Power Rule)\n",
    "The derivative of a polynomial is calculated by the following formula:<br>\n",
    "\\begin{align*}\n",
    "\\frac{d}{dx}(ax^b)=bax^{b-1}\n",
    "\\end{align*}\n",
    "where $a$ and $b$ are both constants.<br>\n",
    "<br>\n",
    "Example:<br>\n",
    "\\begin{align*}\n",
    "\\frac{d}{dx}(5x^3)=(3)(5)x^{3-1}=15x^2\n",
    "\\end{align*}"
   ]
  },
  {
   "cell_type": "code",
   "execution_count": 3,
   "id": "0ad9df0c-2524-4f2b-b125-06032970a88a",
   "metadata": {},
   "outputs": [
    {
     "data": {
      "image/png": "[encoded data removed]",
      "text/latex": [
       "$\\displaystyle 15 x^{2}$"
      ],
      "text/plain": [
       "    2\n",
       "15⋅x "
      ]
     },
     "execution_count": 3,
     "metadata": {},
     "output_type": "execute_result"
    }
   ],
   "source": [
    "# With Code\n",
    "x = sp.symbols(\"x\")\n",
    "f = 5*x**3\n",
    "derivative = sp.diff(f,x)\n",
    "derivative"
   ]
  },
  {
   "cell_type": "markdown",
   "id": "5e5c0f64-bd2b-44f1-b7cd-fc7f413e427d",
   "metadata": {},
   "source": [
    "If a derivative has multiple terms:<br>\n",
    "\\begin{align*}\n",
    "\\frac{d}{dx}(y_1+y_2+,...,y_n)=\\frac{dy_1}{dx}+\\frac{dy_2}{dx}+...+\\frac{dy_n}{dx}=\\sum_{i=1}^{n}\\frac{dy_i}{dx}\n",
    "\\end{align*}\n",
    "Example:<br>\n",
    "\\begin{align*}\n",
    "\\frac{d}{dx}(4x^2-3x+6)=\\frac{d}{dx}4x^2-\\frac{d}{dx}3x+\\frac{d}{dx}6=8x-3\n",
    "\\end{align*}"
   ]
  },
  {
   "cell_type": "code",
   "execution_count": 4,
   "id": "3074dc4d-0a7e-448e-886d-c4dedc9ba28c",
   "metadata": {},
   "outputs": [
    {
     "data": {
      "image/png": "[encoded data removed]",
      "text/latex": [
       "$\\displaystyle 8 x - 3$"
      ],
      "text/plain": [
       "8⋅x - 3"
      ]
     },
     "execution_count": 4,
     "metadata": {},
     "output_type": "execute_result"
    }
   ],
   "source": [
    "# With Code\n",
    "x = sp.symbols(\"x\")\n",
    "f = 4*x**2-3*x+6\n",
    "derivative = sp.diff(f,x)\n",
    "derivative"
   ]
  },
  {
   "cell_type": "markdown",
   "id": "baf89d2f-0793-40ea-8c50-1fd1ea8007ed",
   "metadata": {},
   "source": [
    "## The Chain Rule\n",
    "The chain rule is useful for calculating the derivative of nested functions and is denoted:<br>\n",
    "\\begin{align*}\n",
    "\\frac{df}{dx}=\\frac{df}{du}\\frac{du}{dx}\n",
    "\\end{align*}\n",
    "where $\\frac{df}{du}$ is the derivative of the outside function and $\\frac{du}{dx}$ is the derivative of the inside function.<br>\n",
    "<br>\n",
    "Example: <br>\n",
    "\\begin{align*}\n",
    "\\frac{d}{dx}(2x^2-5)^5=\\left(\\frac{d}{du}u^5\\right)\\left(\\frac{d}{dx}(2x^2-5)\\right)=(5u^4)(4x)=20xu^4=20x(2x^2-5)^4\n",
    "\\end{align*}\n",
    "where $u$ is a substituion for the inner function $2x^2-5$."
   ]
  },
  {
   "cell_type": "code",
   "execution_count": 5,
   "id": "e2500a40-790d-4335-a811-e03f35492a31",
   "metadata": {},
   "outputs": [
    {
     "data": {
      "image/png": "[encoded data removed]",
      "text/latex": [
       "$\\displaystyle 20 x \\left(2 x^{2} - 5\\right)^{4}$"
      ],
      "text/plain": [
       "               4\n",
       "     ⎛   2    ⎞ \n",
       "20⋅x⋅⎝2⋅x  - 5⎠ "
      ]
     },
     "execution_count": 5,
     "metadata": {},
     "output_type": "execute_result"
    }
   ],
   "source": [
    "# With Code\n",
    "x = sp.symbols(\"x\")\n",
    "f = (2*x**2-5)**5\n",
    "derivative = sp.diff(f,x)\n",
    "derivative"
   ]
  },
  {
   "cell_type": "markdown",
   "id": "f3dbe3d7-2c8d-41f5-bf28-106fbc6a76c7",
   "metadata": {},
   "source": [
    "## Product Rule\n",
    "The product rule is used when there is multiplication between functions denoted:<br>\n",
    "\\begin{align*}\n",
    "\\frac{d}{dx}(fg)=g\\frac{df}{dx}+f\\frac{dg}{dx}\n",
    "\\end{align*}\n",
    "where $f$ and $g$ are each functions.<br>\n",
    "<br>\n",
    "Example:<br>\n",
    "\\begin{align*}\n",
    "\\frac{d}{dx}(3x^4-7)(2x^3-6)&=(2x^3-6)\\left[\\frac{d}{dx}(3x^4-7)\\right]+(3x^4-7)\\left[\\frac{d}{dx}(2x^3-6)\\right]\\\\\n",
    "&=(2x^3-6)(12x^3)+(3x^4-7)(6x^2)\\\\\n",
    "&=24x^6-72x^3+18x^6-42x^2\\\\\n",
    "&=42x^6-72x^3-42x^2\n",
    "\\end{align*}"
   ]
  },
  {
   "cell_type": "code",
   "execution_count": 6,
   "id": "ae176bcf-9845-4cc9-9204-77a4949f9e7a",
   "metadata": {},
   "outputs": [
    {
     "data": {
      "image/png": "[encoded data removed]",
      "text/latex": [
       "$\\displaystyle 42 x^{6} - 72 x^{3} - 42 x^{2}$"
      ],
      "text/plain": [
       "    6       3       2\n",
       "42⋅x  - 72⋅x  - 42⋅x "
      ]
     },
     "execution_count": 6,
     "metadata": {},
     "output_type": "execute_result"
    }
   ],
   "source": [
    "# With Code\n",
    "x = sp.symbols(\"x\")\n",
    "f = (3*x**4-7)*(2*x**3-6)\n",
    "derivative = sp.expand(sp.diff(f,x))\n",
    "derivative"
   ]
  },
  {
   "cell_type": "markdown",
   "id": "c872e2da-8d49-49b0-b5c2-2bfd7846ac21",
   "metadata": {},
   "source": [
    "## The Quotient Rule\n",
    "The quotient rule is used when there is division between functions denoted:<br>\n",
    "\\begin{align*}\n",
    "\\frac{d}{dx}\\left(\\frac{f}{g}\\right)=\\frac{g\\frac{df}{dx}-f\\frac{dg}{dx}}{g^2}\n",
    "\\end{align*}\n",
    "where $f$ and $g$ are each functions.<br>\n",
    "<br>\n",
    "Example:<br>\n",
    "\\begin{align*}\n",
    "\\frac{d}{dx}\\left(\\frac{x^4+3x^2-6}{x^2+1}\\right)&=\\frac{(x^2+1)\\left[\\frac{d}{dx}(x^4+3x^2-6)\\right]-(x^4+3x^2-6)\\left[\\frac{d}{dx}(x^2+1)\\right]}{(x^2+1)^2}\\\\\n",
    "&=\\frac{(x^2+1)(4x^3+6x)-(x^4+3x^2-6)(2x)}{(x^2+1)(x^2+1)}\\\\\n",
    "&=\\frac{4x^5+6x^3+4x^3+6x-2x^5-6x^3+12x}{x^4+x^2+x^2+1}\\\\\n",
    "&=\\frac{2x^5+4x^3+18x}{x^4+2x^2+1}\n",
    "\\end{align*}"
   ]
  },
  {
   "cell_type": "code",
   "execution_count": 7,
   "id": "7e36b4c4-2197-4e4b-b590-b3c60e3f22bb",
   "metadata": {},
   "outputs": [
    {
     "data": {
      "image/png": "[encoded data removed]",
      "text/latex": [
       "$\\displaystyle \\frac{2 x \\left(x^{4} + 2 x^{2} + 9\\right)}{x^{4} + 2 x^{2} + 1}$"
      ],
      "text/plain": [
       "    ⎛ 4      2    ⎞\n",
       "2⋅x⋅⎝x  + 2⋅x  + 9⎠\n",
       "───────────────────\n",
       "    4      2       \n",
       "   x  + 2⋅x  + 1   "
      ]
     },
     "execution_count": 7,
     "metadata": {},
     "output_type": "execute_result"
    }
   ],
   "source": [
    "# With Code\n",
    "x = sp.symbols(\"x\")\n",
    "f = (x**4+3*x**2-6)/(x**2+1)\n",
    "derivative = sp.simplify(sp.expand(sp.diff(f,x)))\n",
    "derivative"
   ]
  },
  {
   "cell_type": "markdown",
   "id": "e37ebb12-d37d-4885-b144-30af145492d0",
   "metadata": {},
   "source": [
    "## Derivatives of Trig Functions\n",
    "The basic trig functions:\n",
    "\\begin{align*}\n",
    "\\frac{d}{d\\theta}\\sin\\theta=\\cos\\theta \\ , \\ \\frac{d}{d\\theta}\\cos\\theta&=-\\sin\\theta \\ , \\ \\frac{d}{d\\theta}\\tan\\theta=\\sec^2\\theta\\\\\n",
    "\\frac{d}{d\\theta}\\csc\\theta=-\\csc\\theta\\cot\\theta \\ , \\ \\frac{d}{d\\theta}\\sec\\theta&=\\sec\\theta\\tan\\theta \\ , \\ \\frac{d}{d\\theta}\\cot\\theta=-\\csc^2\\theta \\ \n",
    "\\end{align*}\n",
    "The inverse trig functions:<br>\n",
    "\\begin{align*}\n",
    "\\frac{d}{dx}\\sin^{-1}x=\\frac{1}{\\sqrt{1-x^2}} \\text{ where } |x|<1 \\ &, \\ \\frac{d}{dx}\\cos^{-1}x=\\frac{-1}{\\sqrt{1-x^2}} \\text{ where } |x|<1\\\\\n",
    "\\frac{d}{dx}\\tan^{-1}x=\\frac{1}{1+x^2} \\ &, \\ \\frac{d}{dx}\\cot^{-1}x=\\frac{-1}{1+x^2}\\\\\n",
    "\\frac{d}{dx}\\sec^{-1}x=\\frac{1}{|x|\\sqrt{1-x^2}} \\text{ where } |x|>1 \\ &, \\ \\frac{d}{dx}\\csc^{-1}x=\\frac{-1}{|x|\\sqrt{1-x^2}} \\text{ where } |x|>1\\\\\n",
    "\\end{align*}\n",
    "Example:<br>\n",
    "\\begin{align*}\n",
    "\\frac{d}{d\\theta}(4\\sin3\\theta)=\\left[\\frac{d}{du}(4\\sin u)\\right]\\left[\\frac{d}{d\\theta}(3\\theta)\\right]=(4\\cos u)(3)=12\\cos u=12\\cos3\\theta\n",
    "\\end{align*}\n",
    "where $u=3\\theta$"
   ]
  },
  {
   "cell_type": "code",
   "execution_count": 8,
   "id": "4e476314-dec6-4f22-9cd2-102669c55e0f",
   "metadata": {},
   "outputs": [
    {
     "data": {
      "image/png": "[encoded data removed]",
      "text/latex": [
       "$\\displaystyle 12 \\cos{\\left(3 \\theta \\right)}$"
      ],
      "text/plain": [
       "12⋅cos(3⋅θ)"
      ]
     },
     "execution_count": 8,
     "metadata": {},
     "output_type": "execute_result"
    }
   ],
   "source": [
    "# With Code\n",
    "theta = sp.symbols(\"theta\")\n",
    "f = 4*sp.sin(3*theta)\n",
    "derivative = sp.diff(f,theta)\n",
    "derivative"
   ]
  },
  {
   "cell_type": "markdown",
   "id": "e89a76e3-7e4b-4ad6-a325-718829edaa89",
   "metadata": {},
   "source": [
    "## Derivatives of Exponentials\n",
    "The derivative of the basic exponential function is:\n",
    "\\begin{align*}\n",
    "\\frac{d}{dx}e^{ax}=ae^{ax}\n",
    "\\end{align*}"
   ]
  },
  {
   "cell_type": "markdown",
   "id": "7131bedd-8baa-48a4-9355-f65a9a56f145",
   "metadata": {},
   "source": [
    "Example:\n",
    "\\begin{align*}\n",
    "\\frac{d}{dx}\\left(3e^{x^2}\\right)=\\left[\\frac{d}{du}(3e^u)\\right]\\left[\\frac{d}{dx}(x^2)\\right]=(3e^u)(2x)=6xe^u=6xe^{x^2}\n",
    "\\end{align*}"
   ]
  },
  {
   "cell_type": "code",
   "execution_count": 9,
   "id": "9aaa5f3b-74fd-4f40-8639-193c6403cf93",
   "metadata": {},
   "outputs": [
    {
     "data": {
      "image/png": "[encoded data removed]",
      "text/latex": [
       "$\\displaystyle 6 x e^{x^{2}}$"
      ],
      "text/plain": [
       "     ⎛ 2⎞\n",
       "     ⎝x ⎠\n",
       "6⋅x⋅ℯ    "
      ]
     },
     "execution_count": 9,
     "metadata": {},
     "output_type": "execute_result"
    }
   ],
   "source": [
    "# With Code\n",
    "x = sp.symbols(\"x\")\n",
    "f = 3*sp.exp(x**2)\n",
    "derivative = sp.diff(f,x)\n",
    "derivative"
   ]
  }
 ],
 "metadata": {
  "kernelspec": {
   "display_name": "MathMethodsForPhysics_venv",
   "language": "python",
   "name": "mathmethodsforphysics_venv"
  },
  "language_info": {
   "codemirror_mode": {
    "name": "ipython",
    "version": 3
   },
   "file_extension": ".py",
   "mimetype": "text/x-python",
   "name": "python",
   "nbconvert_exporter": "python",
   "pygments_lexer": "ipython3",
   "version": "3.10.14"
  }
 },
 "nbformat": 4,
 "nbformat_minor": 5
}
