{
 "cells": [
  {
   "cell_type": "code",
   "execution_count": 1,
   "id": "513f0830-49c3-4a79-b68a-5c71ce028034",
   "metadata": {},
   "outputs": [],
   "source": [
    "# Author: Brent Artuch\n",
    "# Date: 2024-10-11\n",
    "\n",
    "import sympy as sp\n",
    "import numpy as np\n",
    "from IPython.display import *\n",
    "import matplotlib.pyplot as plt\n",
    "\n",
    "sp.init_printing()"
   ]
  },
  {
   "cell_type": "markdown",
   "id": "36d907a5-68fc-4732-81ab-eadceb90606d",
   "metadata": {},
   "source": [
    "## Basic Properties\n",
    "The magnitude of a vector $\\mathbf{A}$ is:<br>\n",
    "\\begin{align*}\n",
    "|A|=\\sqrt{(A_x^2+A_y^2+A_z^2)}\n",
    "\\end{align*}\n",
    "where $A_x$, $A_y$, and $A_z$ are the $x$, $y$, and $z$ component vectors of $\\mathbf{A}$ respectively.<br>\n",
    "#### Example:\n",
    "Let $\\mathbf{V}$ = $(2, -3, 4)$. The magnitude of $\\mathbf{V}$ is:\n",
    "\\begin{align*}\n",
    "|V|&=\\sqrt{(V_x^2+V_y^2+V_z^2)}\\\\\n",
    "&=\\sqrt{(2)^2+(-3)^2+(4)^2}\\\\\n",
    "&=\\sqrt{4+9+16}\\\\\n",
    "&=\\sqrt{29}=5.39\n",
    "\\end{align*}"
   ]
  },
  {
   "cell_type": "code",
   "execution_count": 2,
   "id": "59429341-c13d-4b48-b3d1-fe125699ad01",
   "metadata": {},
   "outputs": [
    {
     "data": {
      "image/png": "[encoded data removed]",
      "text/latex": [
       "$\\displaystyle 5.39$"
      ],
      "text/plain": [
       "5.39"
      ]
     },
     "execution_count": 2,
     "metadata": {},
     "output_type": "execute_result"
    }
   ],
   "source": [
    "# With Code\n",
    "V = np.array([2,-3,4])\n",
    "magnitude_V = np.sqrt(V[0]**2 + V[1]**2 + V[2]**2)\n",
    "round(magnitude_V.item(), 2)"
   ]
  },
  {
   "cell_type": "markdown",
   "id": "99637f9c-cda1-4c07-9256-cca74a7c2e79",
   "metadata": {},
   "source": [
    "Given two vectors $\\mathbf{A}$ and $\\mathbf{B}$, the resulting sum vector $\\mathbf{C}$ has the property:<br>\n",
    "\\begin{align*}\n",
    "\\mathbf{C}&=k_0\\mathbf{A}+k_1\\mathbf{B}\n",
    "\\end{align*}\n",
    "where $k_0$ and $k_1$ are scalars, and it follows that the component vetors of $\\mathbf{C}$ are:<br>\n",
    "\\begin{align*}\n",
    "\\mathbf{C_x}=k_0\\mathbf{A_x}+k_1\\mathbf{B_x}, \\ \\ \\\n",
    "\\mathbf{C_y}=k_0\\mathbf{A_y}+k_1\\mathbf{B_y}, \\ \\ \\\n",
    "\\mathbf{C_z}=k_0\\mathbf{A_z}+k_1\\mathbf{B_z}\n",
    "\\end{align*}"
   ]
  },
  {
   "cell_type": "code",
   "execution_count": 3,
   "id": "75c5a08e-a6c9-42ed-8472-4957eea39168",
   "metadata": {},
   "outputs": [
    {
     "name": "stdout",
     "output_type": "stream",
     "text": [
      "[ True  True]\n"
     ]
    },
    {
     "data": {
      "image/png": "[encoded data removed]",
      "text/plain": [
       "<Figure size 300x300 with 1 Axes>"
      ]
     },
     "metadata": {},
     "output_type": "display_data"
    }
   ],
   "source": [
    "# Graph of relationship\n",
    "A = np.array([1,2])\n",
    "B = np.array([2,1])\n",
    "C = A+B\n",
    "A_prime = np.array([2,1])\n",
    "B_prime = np.array([1,2])\n",
    "C_prime = A_prime+B_prime\n",
    "# Show that the sum of these vectors result in the same vector\n",
    "print(C==C_prime)\n",
    "\n",
    "plt.figure(figsize=(3,3))\n",
    "plt.title(r\"$\\mathbf{A}+\\mathbf{B}=\\mathbf{C}$\")\n",
    "plt.annotate(r'$\\mathbf{B}$', xy=(1.5, 2.5))\n",
    "plt.annotate(r\"$\\mathbf{B}^'$\", xy=(2.5, 1.5))\n",
    "plt.annotate(r'$\\mathbf{A}$', xy=(0.5, 1.5))\n",
    "plt.annotate(r\"$\\mathbf{A}^'$\", xy=(1.5, 0.5))\n",
    "plt.annotate(r'$\\mathbf{C}$', xy=(1.3, 1.5))\n",
    "\n",
    "# Plot the vectors\n",
    "plt.arrow(0,0, A[0], A[1], head_width = 0.1, length_includes_head = True, width = 0.02, color='g') \n",
    "plt.arrow(A[0], A[1], B[0], B[1], head_width = 0.1, length_includes_head = True, width = 0.02, color = 'b')\n",
    "plt.arrow(0,0, A_prime[0], A_prime[1], head_width = 0.1, length_includes_head = True, width = 0.02, color='g') \n",
    "plt.arrow(A_prime[0], A_prime[1], B_prime[0], B_prime[1], head_width = 0.1, length_includes_head = True, width = 0.02, color = 'b')\n",
    "plt.arrow(0, 0, C[0], C[1], head_width = 0.1, length_includes_head = True, width = 0.02, color = 'r')\n",
    "\n",
    "plt.xlim(0,3.5)\n",
    "plt.ylim(0,3.5)\n",
    "\n",
    "plt.show()"
   ]
  }
 ],
 "metadata": {
  "kernelspec": {
   "display_name": "Math_Methods_Phys_venv",
   "language": "python",
   "name": "math_methods_phys_venv"
  },
  "language_info": {
   "codemirror_mode": {
    "name": "ipython",
    "version": 3
   },
   "file_extension": ".py",
   "mimetype": "text/x-python",
   "name": "python",
   "nbconvert_exporter": "python",
   "pygments_lexer": "ipython3",
   "version": "3.12.7"
  }
 },
 "nbformat": 4,
 "nbformat_minor": 5
}
