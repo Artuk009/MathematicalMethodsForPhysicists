{
 "cells": [
  {
   "cell_type": "code",
   "execution_count": 3,
   "id": "d56d930f-2f9e-4064-b61a-5e721fba490b",
   "metadata": {},
   "outputs": [],
   "source": [
    "# Author: Brent Artuch\n",
    "# Date: 2024-11-23\n",
    "\n",
    "import sympy as sp"
   ]
  },
  {
   "cell_type": "markdown",
   "id": "c6da6681-fbcf-47bc-aede-a77f4d83119d",
   "metadata": {},
   "source": [
    "## Fundamental Concepts\n",
    "In general, an $\\mathbf{infinite\\ series}$ is the addition of infinitely many terms such as:\n",
    "\\begin{align*}\n",
    "\\sum_{i=1}^{\\infty}a_i=a_1+a_2+\\dots+a_n+\\dots\n",
    "\\end{align*}"
   ]
  },
  {
   "cell_type": "markdown",
   "id": "7e16e0b7-c76a-4503-b485-d26923b38aaa",
   "metadata": {},
   "source": [
    "Example - Euler's number can be defined with the series:\n",
    "\\begin{align*}\n",
    "\\sum_{n=0}^{\\infty}\\frac{1}{n!}=1+\\frac{1}{1!}+\\frac{1}{2!}+\\frac{1}{3!}+\\dots+\\frac{1}{n!}+\\dots\n",
    "\\end{align*}"
   ]
  },
  {
   "cell_type": "markdown",
   "id": "0f37e524-912e-4736-872f-272848aa5ffd",
   "metadata": {},
   "source": [
    "Given a series $s$ its $i$th $\\mathbf{partial\\ sum}$ is denoted:\n",
    "\\begin{align*}\n",
    "s_n=\\sum_{i=0}^{n}a_i=a_0+a_1+\\dots+a_n\n",
    "\\end{align*}"
   ]
  },
  {
   "cell_type": "markdown",
   "id": "2622ec71-c491-4461-bb1d-c9381a682de7",
   "metadata": {},
   "source": [
    "The series $\\mathbf{converges}$ to some value $S\\in\\mathbb{R}$ if:\n",
    "\\begin{align*}\n",
    "\\lim_{i\\rightarrow\\infty}s_i=S\n",
    "\\end{align*}"
   ]
  },
  {
   "cell_type": "markdown",
   "id": "469d5a6d-8915-497e-9a5b-0a3cf8491d24",
   "metadata": {},
   "source": [
    "Example:\n",
    "\\begin{align*}\n",
    "s_n=\\sum_{k=0}^{n}\\frac{1}{2^k}=\\frac{1}{2^0}+\\frac{1}{2^1}+\\dots+\\frac{1}{2^n}\n",
    "\\end{align*}"
   ]
  },
  {
   "cell_type": "markdown",
   "id": "002e2bf7-4759-4612-9fba-07750cd9bd68",
   "metadata": {},
   "source": [
    "Let's evaluate the first four $s$ terms:\n",
    "\\begin{align*}\n",
    "s_0&=\\sum_{k=0}^{0}\\frac{1}{2^k}=\\frac{1}{2^0}=1\\\\\n",
    "s_1&=\\sum_{k=0}^{1}\\frac{1}{2^k}=s_0+\\frac{1}{2^1}=1+\\frac{1}{2^1}=\\frac{2}{2}+\\frac{1}{2}=\\frac{3}{2}=1.5\\\\\n",
    "s_2&=\\sum_{k=0}^{2}\\frac{1}{2^k}=s_1+\\frac{1}{2^2}=\\frac{3}{2}+\\frac{1}{4}=\\frac{6}{4}+\\frac{1}{4}=\\frac{7}{4}=1.75\\\\\n",
    "s_3&=\\sum_{k=0}^{3}\\frac{1}{2^k}=s_2+\\frac{1}{2^3}=\\frac{7}{4}+\\frac{1}{8}=\\frac{14}{8}+\\frac{1}{8}=\\frac{15}{8}=1.875\\\\\n",
    "\\end{align*}"
   ]
  },
  {
   "cell_type": "markdown",
   "id": "ef874a3a-bdf0-45b4-a735-c0a6e129ef0c",
   "metadata": {},
   "source": [
    "We can conclude from simple observation that the limit of this series is $2$, but we can also generalize $s_n$ as:\n",
    "\\begin{align*}\n",
    "s_n=\\sum_{k=0}^{n}\\frac{1}{2^k}=2-\\frac{1}{2^n}\n",
    "\\end{align*}"
   ]
  },
  {
   "cell_type": "markdown",
   "id": "fb135ea7-584a-4e35-bf13-945a0ca8b150",
   "metadata": {},
   "source": [
    "Thus the limit of $s_n$ is:\n",
    "\\begin{align*}\n",
    "\\lim_{n\\rightarrow\\infty}s_n=\\lim_{n\\rightarrow\\infty}\\left(2-\\frac{1}{2^n}\\right)=2-\\frac{1}{2^\\infty}=2-0=2\n",
    "\\end{align*}"
   ]
  },
  {
   "cell_type": "code",
   "execution_count": 7,
   "id": "b9652d06-240e-4e4a-ad65-46a5f9048640",
   "metadata": {},
   "outputs": [
    {
     "data": {
      "text/latex": [
       "$\\displaystyle \\text{True}$"
      ],
      "text/plain": [
       "True"
      ]
     },
     "execution_count": 7,
     "metadata": {},
     "output_type": "execute_result"
    }
   ],
   "source": [
    "# Check with sympy\n",
    "n = sp.symbols('n')\n",
    "\n",
    "# Limit\n",
    "f = 2-(1/2**n)\n",
    "limit_f\n",
    "\n",
    "sum_expr = sp.Sum(1/2**n, (n, 0, sp.oo))\n",
    "sum_expr.is_convergent()"
   ]
  },
  {
   "cell_type": "code",
   "execution_count": null,
   "id": "8cc32b5e-6432-4307-abee-c661a7547162",
   "metadata": {},
   "outputs": [],
   "source": []
  }
 ],
 "metadata": {
  "kernelspec": {
   "display_name": "Math_Methods_Phys_venv",
   "language": "python",
   "name": "math_methods_phys_venv"
  },
  "language_info": {
   "codemirror_mode": {
    "name": "ipython",
    "version": 3
   },
   "file_extension": ".py",
   "mimetype": "text/x-python",
   "name": "python",
   "nbconvert_exporter": "python",
   "pygments_lexer": "ipython3",
   "version": "3.12.7"
  }
 },
 "nbformat": 4,
 "nbformat_minor": 5
}
