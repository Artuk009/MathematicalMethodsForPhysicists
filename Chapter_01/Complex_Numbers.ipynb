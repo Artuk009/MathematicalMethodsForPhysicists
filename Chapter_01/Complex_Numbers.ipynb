{
 "cells": [
  {
   "cell_type": "code",
   "execution_count": 1,
   "id": "03e38b22-bd9a-4412-b0fe-088d605751d3",
   "metadata": {},
   "outputs": [],
   "source": [
    "# Author: Brent Artuch\n",
    "# Date: 2024-11-19\n",
    "\n",
    "import numpy as np\n",
    "import matplotlib.pyplot as plt"
   ]
  },
  {
   "cell_type": "markdown",
   "id": "3727900e-04ee-4150-84ab-6ab53f7bb6c1",
   "metadata": {},
   "source": [
    "## Basic Properties\n",
    "A complex number $z$ is an ordered pair of two real numbers $(a,b)$ where $a$ is the real component and $b$ is the imagenary component. Thus we have:\n",
    "\\begin{align*}\n",
    "z\\equiv(a,b)\\equiv(x,y)\n",
    "\\end{align*}\n",
    "where $(a,b)\\not=(b,a)$ if $a\\not=b$."
   ]
  },
  {
   "cell_type": "markdown",
   "id": "9e51ee1d-f81e-498d-9e45-e8256a4d788b",
   "metadata": {},
   "source": [
    "The imagenary unit of complex numbers is $i$ which has the properties:\n",
    "\\begin{align*}\n",
    "i\\equiv(0,1)\\ \\text{ and }\\ i=\\sqrt{-1}\n",
    "\\end{align*}"
   ]
  },
  {
   "cell_type": "markdown",
   "id": "c14e2711-5bf3-40f8-b48b-2ab4813f53d1",
   "metadata": {},
   "source": [
    "$\\mathbf{Addition}$ of complex numbers using cartesian coordinates is defined as follows;\n",
    "\\begin{align*}\n",
    "z_1+z_2=(x_1,y_1)+(x_2,y_2)=(x_1+x_2,y_1+y_2)\n",
    "\\end{align*}"
   ]
  },
  {
   "cell_type": "markdown",
   "id": "cd9dc8a3-c322-4c59-ba67-ef4d40a17c37",
   "metadata": {},
   "source": [
    "Using complex number addition, we can show another property of $i$:\n",
    "\\begin{align*}\n",
    "z=(x,y)=(x,0)+(0,y)=x+(0,1)\\cdot(y,0)=x+iy\n",
    "\\end{align*}"
   ]
  },
  {
   "cell_type": "markdown",
   "id": "ac25b367-fd4c-41e1-a363-45ed600a03a0",
   "metadata": {},
   "source": [
    "$\\mathbf{Multiplication}$ of complex numbers using cartesian coordinates is defined as follows;\n",
    "\\begin{align*}\n",
    "z_1z_2=(x_1,y_1)\\cdot(x_2,y_2)=(x_1x_2-y_1y_2,x_1y_2+y_1x_2)\n",
    "\\end{align*}"
   ]
  },
  {
   "cell_type": "markdown",
   "id": "22bb0fad-78b5-4551-addf-2c2955bdc3e2",
   "metadata": {},
   "source": [
    "Using complex number multiplication, we can show another property of $i$:\n",
    "\\begin{align*}\n",
    "i^2=(0,1)\\cdot(0,1)=\\left[(0)(0)-(1)(1),(0)(1)+(0)(1)\\right]=(-1,0)=-1\n",
    "\\end{align*}"
   ]
  },
  {
   "cell_type": "markdown",
   "id": "d853812b-54e9-4cde-aff6-249079ea558d",
   "metadata": {},
   "source": [
    "If we have an complex number:\n",
    "\\begin{align*}\n",
    "z=x+iy\n",
    "\\end{align*}\n",
    "then its conjugate is:\n",
    "\\begin{align*}\n",
    "z^*=x-iy\n",
    "\\end{align*}\n",
    "and the $\\mathbf{complex\\ conjugation}$ of $z$ is:\n",
    "\\begin{align*}\n",
    "zz^*=(x+iy)(x-iy)=x^2-ixy+ixy-i^2y^2=x^2-(-1)y^2=x^2+y^2\n",
    "\\end{align*}"
   ]
  },
  {
   "cell_type": "markdown",
   "id": "065971d7-8011-47fe-90e0-edbc4acfdb45",
   "metadata": {},
   "source": [
    "The $\\mathbf{Division}$ of complex numbers is defined as:\n",
    "\\begin{align*}\n",
    "\\frac{z_1}{z_2}=\\frac{z_1z_2^*}{z_2z_2^*}=\\frac{(x_1+iy_1)(x_2-iy_2)}{x_2^2+y_2^2}\n",
    "\\end{align*}"
   ]
  },
  {
   "cell_type": "markdown",
   "id": "a1b55fb3-ee15-40ca-b902-018d67904260",
   "metadata": {},
   "source": [
    "Example: Let $z_1=5+i\\sqrt{2}$ and $z_2=1-i\\sqrt{2}$:\n",
    "\\begin{align*}\n",
    "\\frac{5+i\\sqrt{2}}{1-i\\sqrt{2}}=\\frac{(5+i\\sqrt{2})(1+i\\sqrt{2})}{(1)^2+(-\\sqrt{2})^2}=\\frac{5+5i\\sqrt{2}+i\\sqrt{2}+i^22}{1+2}=1+2i\\sqrt{2}\n",
    "\\end{align*}"
   ]
  },
  {
   "cell_type": "markdown",
   "id": "de32b13f-4a7c-49cf-8c9c-79f286103d0e",
   "metadata": {},
   "source": [
    "## Polar Representation\n",
    "If we want to express cartesian complex numbers $(x,y)$ in terms of polar coordinates $(r,\\theta)$, we need the following relationships:\n",
    "\\begin{align*}\n",
    "x=r\\cos\\theta \\ , \\ y=r\\sin\\theta\\ , \\ r=\\sqrt{x^2+y^2}\\ , \\ \\theta=\\tan^{-1}y/x\n",
    "\\end{align*}"
   ]
  },
  {
   "cell_type": "markdown",
   "id": "6e65daab-d8f6-43de-8446-b4f36ecd5943",
   "metadata": {},
   "source": [
    "Based on these properties, we can say that:\n",
    "\\begin{align*}\n",
    "x+iy=r\\cos\\theta+(i)r\\sin\\theta=r(\\cos\\theta+i\\sin\\theta)=re^{i\\theta}\n",
    "\\end{align*}\n",
    "where $e^{i\\theta}=\\cos\\theta+i\\sin\\theta$"
   ]
  },
  {
   "cell_type": "markdown",
   "id": "247d1a73-f3fc-4480-96a4-ec5132903854",
   "metadata": {},
   "source": [
    "We can also do complex conjugation in terms of polar coordinates with the following process:\n",
    "\\begin{align*}\n",
    "zz^*=\\left(re^{i\\theta}\\right)\\left(re^{i\\theta}\\right)^*=rr^*e^{i(\\theta+\\theta^*)}\n",
    "\\end{align*}"
   ]
  },
  {
   "cell_type": "markdown",
   "id": "c5a71494-40a8-423a-9f0a-6b8ba03e1b42",
   "metadata": {},
   "source": [
    "Example: Let $z=2e^{2\\pi i}$\n",
    "\\begin{align*}\n",
    "2e^{2\\pi i}\\left(2e^{2\\pi i}\\right)^*=2e^{2\\pi i}2e^{-2\\pi i}=2(2)e^{2\\pi i-2\\pi i}=4e^{0}=4(1)=4\n",
    "\\end{align*}"
   ]
  },
  {
   "cell_type": "code",
   "execution_count": 2,
   "id": "cc27ae17-bebb-482b-a906-1ce36938e0c0",
   "metadata": {},
   "outputs": [
    {
     "data": {
      "image/png": "[encoded data removed]",
      "text/plain": [
       "<Figure size 400x400 with 1 Axes>"
      ]
     },
     "metadata": {},
     "output_type": "display_data"
    }
   ],
   "source": [
    "# Graph of vector addition\n",
    "r = np.array([3,2])\n",
    "x = np.array([3,0])\n",
    "y = np.array([0,2])\n",
    "re = np.array([3.5,0])\n",
    "im = np.array([0,3])\n",
    "\n",
    "plt.figure(figsize=(4,4))\n",
    "plt.title(\"Complex Plane\")\n",
    "plt.annotate(r'$\\theta$', xy=(0.5, 0.1))\n",
    "plt.annotate(r'$\\mathbf{r}$', xy=(1.25, 1))\n",
    "plt.annotate(r'$\\mathbf{z}$', xy=(3.1, 2.1))\n",
    "plt.annotate(r'$\\mathbf{x}$', xy=(1.5, 2.1))\n",
    "plt.annotate(r'$\\mathbf{y}$', xy=(3.1, 1))\n",
    "plt.annotate(r'$\\mathbf{Im}$', xy=(-0.1, 3.1))\n",
    "plt.annotate(r'$\\mathbf{Re}$', xy=(3.5, 0))\n",
    "\n",
    "# Plot the vectors\n",
    "plt.arrow(0,0, r[0], r[1], head_width = 0.1, length_includes_head = True, width = 0.02, color='g') \n",
    "plt.arrow(3, 0, y[0], y[1], head_width = 0.1, length_includes_head = True, width = 0.02, color = 'b')\n",
    "plt.arrow(0, 2, x[0], x[1], head_width = 0.1, length_includes_head = True, width = 0.02, color = 'b')\n",
    "plt.arrow(0, 0, re[0], re[1], head_width = 0.1, length_includes_head = True, width = 0.0000002, color = 'grey')\n",
    "plt.arrow(0, 0, im[0], im[1], head_width = 0.1, length_includes_head = True, width = 0.0000002, color = 'grey')\n",
    "plt.plot(3, 2, marker='o', color='red')\n",
    "\n",
    "plt.xlim(-0.1,3.6)\n",
    "plt.ylim(-0.1,3.1)\n",
    "\n",
    "plt.axis(\"off\")\n",
    "\n",
    "plt.show()"
   ]
  }
 ],
 "metadata": {
  "kernelspec": {
   "display_name": "MathMethodsForPhysics_venv",
   "language": "python",
   "name": "mathmethodsforphysics_venv"
  },
  "language_info": {
   "codemirror_mode": {
    "name": "ipython",
    "version": 3
   },
   "file_extension": ".py",
   "mimetype": "text/x-python",
   "name": "python",
   "nbconvert_exporter": "python",
   "pygments_lexer": "ipython3",
   "version": "3.10.14"
  }
 },
 "nbformat": 4,
 "nbformat_minor": 5
}
