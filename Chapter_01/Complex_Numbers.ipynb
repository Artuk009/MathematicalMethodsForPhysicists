{
 "cells": [
  {
   "cell_type": "code",
   "execution_count": 1,
   "id": "03e38b22-bd9a-4412-b0fe-088d605751d3",
   "metadata": {},
   "outputs": [],
   "source": [
    "# Author: Brent Artuch\n",
    "# Date: 2024-11-19"
   ]
  },
  {
   "cell_type": "markdown",
   "id": "3727900e-04ee-4150-84ab-6ab53f7bb6c1",
   "metadata": {},
   "source": [
    "## Basic Properties\n",
    "A complex number $z$ is an ordered pair of two real numbers $(a,b)$ where $a$ is the real component and $b$ is the imagenary component. Thus we have:\n",
    "\\begin{align*}\n",
    "z\\equiv(a,b)\\equiv(x,y)\n",
    "\\end{align*}\n",
    "where $(a,b)\\not=(b,a)$ if $a\\not=b$."
   ]
  },
  {
   "cell_type": "markdown",
   "id": "9e51ee1d-f81e-498d-9e45-e8256a4d788b",
   "metadata": {},
   "source": [
    "The imagenary unit of complex numbers is $i$ which has the properties:\n",
    "\\begin{align*}\n",
    "i\\equiv(0,1)\\ \\text{ and }\\ i=\\sqrt{-1}\n",
    "\\end{align*}"
   ]
  },
  {
   "cell_type": "markdown",
   "id": "c14e2711-5bf3-40f8-b48b-2ab4813f53d1",
   "metadata": {},
   "source": [
    "$\\mathbf{Addition}$ of complex numbers using cartesian coordinates is defined as follows;\n",
    "\\begin{align*}\n",
    "z_1+z_2=(x_1,y_1)+(x_2,y_2)=(x_1+x_2,y_1+y_2)\n",
    "\\end{align*}"
   ]
  },
  {
   "cell_type": "markdown",
   "id": "cd9dc8a3-c322-4c59-ba67-ef4d40a17c37",
   "metadata": {},
   "source": [
    "Using complex number addition, we can show another property of $i$:\n",
    "\\begin{align*}\n",
    "z=(x,y)=(x,0)+(0,y)=x+(0,1)\\cdot(y,0)=x+iy\n",
    "\\end{align*}"
   ]
  },
  {
   "cell_type": "markdown",
   "id": "ac25b367-fd4c-41e1-a363-45ed600a03a0",
   "metadata": {},
   "source": [
    "$\\mathbf{Multiplication}$ of complex numbers using cartesian coordinates is defined as follows;\n",
    "\\begin{align*}\n",
    "z_1z_2=(x_1,y_1)\\cdot(x_2,y_2)=(x_1x_2-y_1y_2,x_1y_2+y_1x_2)\n",
    "\\end{align*}"
   ]
  },
  {
   "cell_type": "markdown",
   "id": "22bb0fad-78b5-4551-addf-2c2955bdc3e2",
   "metadata": {},
   "source": [
    "Using complex number multiplication, we can show another property of $i$:\n",
    "\\begin{align*}\n",
    "i^2=(0,1)\\cdot(0,1)=\\left[(0)(0)-(1)(1),(0)(1)+(0)(1)\\right]=(-1,0)=-1\n",
    "\\end{align*}"
   ]
  },
  {
   "cell_type": "markdown",
   "id": "d853812b-54e9-4cde-aff6-249079ea558d",
   "metadata": {},
   "source": [
    "If we have an complex number:\n",
    "\\begin{align*}\n",
    "z=x+iy\n",
    "\\end{align*}\n",
    "then its conjugate is:\n",
    "\\begin{align*}\n",
    "z^*=x-iy\n",
    "\\end{align*}\n",
    "and the $\\mathbf{complex\\ conjugation}$ of $z$ is:\n",
    "\\begin{align*}\n",
    "zz^*=(x+iy)(x-iy)=x^2-ixy+ixy-i^2y^2=x^2-(-1)y^2=x^2+y^2\n",
    "\\end{align*}"
   ]
  },
  {
   "cell_type": "markdown",
   "id": "065971d7-8011-47fe-90e0-edbc4acfdb45",
   "metadata": {},
   "source": [
    "The $\\mathbf{Division}$ of complex numbers is defined as:\n",
    "\\begin{align*}\n",
    "\\frac{z_1}{z_2}=\\frac{z_1z_2^*}{z_2z_2^*}=\\frac{(x_1+iy_1)(x_2-iy_2)}{x_2^2+y_2^2}\n",
    "\\end{align*}"
   ]
  },
  {
   "cell_type": "markdown",
   "id": "a1b55fb3-ee15-40ca-b902-018d67904260",
   "metadata": {},
   "source": [
    "Example: Let $z_1=5+i\\sqrt{2}$ and $z_2=1-i\\sqrt{2}$:\n",
    "\\begin{align*}\n",
    "\\frac{5+i\\sqrt{2}}{1-i\\sqrt{2}}=\\frac{(5+i\\sqrt{2})(1+i\\sqrt{2})}{(1)^2+(-\\sqrt{2})^2}=\\frac{5+5i\\sqrt{2}+i\\sqrt{2}+i^22}{1+2}=1+2i\\sqrt{2}\n",
    "\\end{align*}"
   ]
  }
 ],
 "metadata": {
  "kernelspec": {
   "display_name": "MathMethodsForPhysics_venv",
   "language": "python",
   "name": "mathmethodsforphysics_venv"
  },
  "language_info": {
   "codemirror_mode": {
    "name": "ipython",
    "version": 3
   },
   "file_extension": ".py",
   "mimetype": "text/x-python",
   "name": "python",
   "nbconvert_exporter": "python",
   "pygments_lexer": "ipython3",
   "version": "3.10.14"
  }
 },
 "nbformat": 4,
 "nbformat_minor": 5
}
