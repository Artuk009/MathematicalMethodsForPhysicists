{
 "cells": [
  {
   "cell_type": "code",
   "execution_count": 1,
   "id": "cf8f187c-edb5-4685-8079-a1a25b3a9d3c",
   "metadata": {},
   "outputs": [],
   "source": [
    "# Author: Brent Artuch\n",
    "# Date: 2024-10-15\n",
    "\n",
    "import sympy as sp\n",
    "import numpy as np\n",
    "import matplotlib.pyplot as plt\n",
    "from IPython.display import *\n",
    "\n",
    "sp.init_printing()"
   ]
  },
  {
   "cell_type": "markdown",
   "id": "18cefe1d-69eb-4284-b6e3-bf996facfc9a",
   "metadata": {},
   "source": [
    "## Partial Derivatives\n",
    "Taking the partial derivative of function with respect to one variable is the same process as a standard derivative except that we treat other independent variables as if they were constants.<br>\n",
    "Example: Given $z=4x^3y^2$<br>\n",
    "\\begin{align*}\n",
    "\\frac{\\partial z}{\\partial x}&=\\frac{\\partial}{\\partial x}4x^3y^2=4y^2\\frac{\\partial}{\\partial x}x^3=4y^2(3x^2)=12x^2y^2\\\\\n",
    "\\frac{\\partial z}{\\partial y}&=\\frac{\\partial}{\\partial y}4x^3y^2=4x^3\\frac{\\partial}{\\partial x}y^2=4x^3(2y)=8x^3y\\\\\n",
    "\\end{align*}"
   ]
  },
  {
   "cell_type": "code",
   "execution_count": 2,
   "id": "467a7b00-487e-4898-a5ed-188cd648484a",
   "metadata": {},
   "outputs": [
    {
     "data": {
      "image/png": "[encoded data removed]",
      "text/latex": [
       "$\\displaystyle \\left( 12 x^{2} y^{2}, \\  8 x^{3} y\\right)$"
      ],
      "text/plain": [
       "⎛    2  2     3  ⎞\n",
       "⎝12⋅x ⋅y , 8⋅x ⋅y⎠"
      ]
     },
     "execution_count": 2,
     "metadata": {},
     "output_type": "execute_result"
    }
   ],
   "source": [
    "# With Code\n",
    "x,y = sp.symbols(\"x,y\")\n",
    "f = 4*x**3*y**2\n",
    "derivative_x, derivative_y = sp.diff(f,x), sp.diff(f,y)\n",
    "derivative_x, derivative_y"
   ]
  },
  {
   "cell_type": "markdown",
   "id": "fb8aef10-cad6-4923-b6b2-7a54ea25cbf4",
   "metadata": {},
   "source": [
    "## Second Partial Derivative\n",
    "The second partial derivative can be found by taking two consecutive derivatives with respect to the same variable denoted:\n",
    "\\begin{align*}\n",
    "\\frac{\\partial}{\\partial x}\\frac{\\partial f}{\\partial x}=\\frac{\\partial^2f}{\\partial x^2}\\not = \\left(\\frac{\\partial f}{\\partial x}\\right)^2\n",
    "\\end{align*}\n",
    "Note: The square of a derivative is the result of the derivative multiplied by itself and the second derivative is two consecutive derivatives with respect to a variable which is not the same.<br>\n",
    "Example: $z=6x^4y^2$<br>\n",
    "\\begin{align*}\n",
    "\\frac{\\partial z}{\\partial x}&=\\frac{\\partial}{\\partial x}6x^4y^2=6y^2\\frac{\\partial}{\\partial x}x^4=6y^2(4x^3)=24x^3y^2\\\\\n",
    "\\frac{\\partial^2 z}{\\partial x^2}&=\\frac{\\partial}{\\partial x}\\left(\\frac{\\partial z}{\\partial x}\\right)=\\frac{\\partial}{\\partial x}24x^3y^2=24y^2\\frac{\\partial}{\\partial x}x^3=24y^2(3x^2)=72x^2y^2\n",
    "\\end{align*}\n",
    "Notice that:<br>\n",
    "\\begin{align*}\n",
    "\\frac{\\partial^2 z}{\\partial x^2}=72x^2y^2\\not = (24x^3y^2)^2=\\left(\\frac{\\partial z}{\\partial x}\\right)^2\n",
    "\\end{align*}"
   ]
  },
  {
   "cell_type": "code",
   "execution_count": 3,
   "id": "a2885251-fa25-45ed-95d4-343210abe285",
   "metadata": {},
   "outputs": [
    {
     "data": {
      "image/png": "[encoded data removed]",
      "text/latex": [
       "$\\displaystyle 24 x^{3} y^{2}$"
      ],
      "text/plain": [
       "    3  2\n",
       "24⋅x ⋅y "
      ]
     },
     "metadata": {},
     "output_type": "display_data"
    },
    {
     "data": {
      "image/png": "[encoded data removed]",
      "text/latex": [
       "$\\displaystyle 72 x^{2} y^{2}$"
      ],
      "text/plain": [
       "    2  2\n",
       "72⋅x ⋅y "
      ]
     },
     "metadata": {},
     "output_type": "display_data"
    },
    {
     "data": {
      "text/plain": [
       "False"
      ]
     },
     "metadata": {},
     "output_type": "display_data"
    }
   ],
   "source": [
    "# With Code\n",
    "x,y = sp.symbols(\"x,y\")\n",
    "f = 6*x**4*y**2\n",
    "derivative_x = sp.diff(f,x)\n",
    "second_derivative_x = sp.diff(derivative_x,x)\n",
    "\n",
    "display(derivative_x,second_derivative_x,derivative_x**2 == second_derivative_x)"
   ]
  },
  {
   "cell_type": "markdown",
   "id": "517a83be-68e4-46f7-acd7-fb40ed4bb1ca",
   "metadata": {},
   "source": [
    "## Mixed Partial Derivative\n",
    "The mixed partial takes the partial derivative of one variable and then a consecutive partial derivative of another denoted:\n",
    "\\begin{align*}\n",
    "\\frac{\\partial}{\\partial x}\\frac{\\partial f}{\\partial y}=\\frac{\\partial^2f}{\\partial x\\partial y}=\\frac{\\partial^2f}{\\partial y\\partial x}\n",
    "\\end{align*}\n",
    "Example: $f=x^3y+x^2y^2$<br>\n",
    "\\begin{align*}\n",
    "\\frac{\\partial f}{\\partial x}&=\\frac{\\partial}{\\partial x}(x^3y+x^2y^2)=y\\frac{\\partial}{\\partial x}x^3+y^2\\frac{\\partial}{\\partial x}x^2=y(3x^2)+y^2(2x)=3x^2y+2xy^2\\\\\n",
    "\\frac{\\partial f}{\\partial y}&=\\frac{\\partial}{\\partial y}(x^3y+x^2y^2)=x^3\\frac{\\partial}{\\partial y}y+x^2\\frac{\\partial}{\\partial y}y^2=x^3(1)+x^2(2y)=x^3+2x^2y\\\\\n",
    "\\frac{\\partial^2f}{\\partial y\\partial x}&=\\frac{\\partial}{\\partial y}\\frac{\\partial f}{\\partial x}=\\frac{\\partial}{\\partial y}(3x^2y+2xy^2)=3x^2\\frac{\\partial}{\\partial y}y+2x\\frac{\\partial}{\\partial y}y^2=3x^2(1)+2x(2y)=3x^2+4xy\\\\\n",
    "\\frac{\\partial^2f}{\\partial x\\partial y}&=\\frac{\\partial}{\\partial x}\\frac{\\partial f}{\\partial y}=\\frac{\\partial}{\\partial x}(x^3+2x^2y)=\\frac{\\partial}{\\partial x}x^3+2y\\frac{\\partial}{\\partial x}x^2=3x^2+2y(2x)=3x^2+4xy\\\\\n",
    "\\end{align*}"
   ]
  },
  {
   "cell_type": "code",
   "execution_count": 4,
   "id": "6fd445cd-af92-4a04-bfbc-ab3ee393117f",
   "metadata": {},
   "outputs": [
    {
     "data": {
      "image/png": "[encoded data removed]",
      "text/latex": [
       "$\\displaystyle \\left( 3 x^{2} y + 2 x y^{2}, \\  3 x^{2} + 4 x y\\right)$"
      ],
      "text/plain": [
       "⎛   2          2     2        ⎞\n",
       "⎝3⋅x ⋅y + 2⋅x⋅y , 3⋅x  + 4⋅x⋅y⎠"
      ]
     },
     "execution_count": 4,
     "metadata": {},
     "output_type": "execute_result"
    }
   ],
   "source": [
    "# With Code\n",
    "x,y = sp.symbols(\"x,y\")\n",
    "f = x**3*y + x**2*y**2\n",
    "derivative_x = sp.diff(f,x)\n",
    "mixed_derivative_x_y = sp.diff(derivative_x,y)\n",
    "\n",
    "derivative_x,mixed_derivative_x_y"
   ]
  }
 ],
 "metadata": {
  "kernelspec": {
   "display_name": "MathMethodsForPhysics_venv",
   "language": "python",
   "name": "mathmethodsforphysics_venv"
  },
  "language_info": {
   "codemirror_mode": {
    "name": "ipython",
    "version": 3
   },
   "file_extension": ".py",
   "mimetype": "text/x-python",
   "name": "python",
   "nbconvert_exporter": "python",
   "pygments_lexer": "ipython3",
   "version": "3.10.14"
  }
 },
 "nbformat": 4,
 "nbformat_minor": 5
}
