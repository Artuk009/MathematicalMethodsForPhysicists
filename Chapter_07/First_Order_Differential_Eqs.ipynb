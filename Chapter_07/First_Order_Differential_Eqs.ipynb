{
 "cells": [
  {
   "cell_type": "code",
   "execution_count": 1,
   "id": "ca8f4540-65ac-4393-ba98-0dd573ca4a01",
   "metadata": {},
   "outputs": [],
   "source": [
    "# Author: Brent Artuch\n",
    "# Date: 2024-10-17 \n",
    "\n",
    "import sympy as sp\n",
    "\n",
    "sp.init_printing()"
   ]
  },
  {
   "cell_type": "markdown",
   "id": "27100dba-6db2-4aa5-8385-56a0977fb2dd",
   "metadata": {},
   "source": [
    "## Classifications of Differential Equations\n",
    "An $\\mathbf{ordinary}$ diffenrential equation (ODE) has a single independent variable and only involves ordinary derivatives.<br>\n",
    "Examples:<br>\n",
    "\\begin{align*}\n",
    "\\frac{d^2y}{dx^2}+2x\\frac{dy}{dx}=1 \\ \\ \\ , \\ \\ \\ \\frac{dx}{dt}+\\frac{dy}{dt}=xy\n",
    "\\end{align*}"
   ]
  },
  {
   "cell_type": "markdown",
   "id": "21c07bd5-7f45-40e8-939e-0fadf18f4d64",
   "metadata": {},
   "source": [
    "A $\\mathbf{partial}$ differnetial equation (PDE) contains partial derivatives.<br>\n",
    "Example:<br>\n",
    "\\begin{align*}\n",
    "t\\frac{\\partial^2y}{\\partial x^2}=x\\frac{\\partial^2y}{\\partial t^2}\n",
    "\\end{align*}\n",
    "Notice we are taking the derivative of $y$ with respect to two different variables $x$ and $t$."
   ]
  },
  {
   "cell_type": "markdown",
   "id": "6f50e7ee-8196-441a-ae82-3f06d40f099b",
   "metadata": {},
   "source": [
    "The $\\mathbf{order}$ of a differnetial equation refers to the highest derivative within the equation.<br>\n",
    "Examples:<br>\n",
    "\\begin{align*}\n",
    "\\frac{dx}{dt}=-2t \\ \\text{Order=1} \\ \\ ,  \\ \\ \\ \\frac{d^2y}{dx^2}-\\frac{dy}{dx}+1=0 \\ \\text{Order}=2\n",
    "\\end{align*}"
   ]
  },
  {
   "cell_type": "code",
   "execution_count": 2,
   "id": "c2bef122-7b92-4a4e-bb76-c82b50d93608",
   "metadata": {},
   "outputs": [
    {
     "data": {
      "image/png": "[encoded data removed]",
      "text/latex": [
       "$\\displaystyle 2$"
      ],
      "text/plain": [
       "2"
      ]
     },
     "execution_count": 2,
     "metadata": {},
     "output_type": "execute_result"
    }
   ],
   "source": [
    "# With sympy\n",
    "y = sp.Function(\"y\")\n",
    "x = sp.symbols(\"x\")\n",
    "\n",
    "Eq = sp.Eq(y(x).diff(x).diff(x) - y(x).diff(x) + 1, 0)\n",
    "sp.ode_order(Eq, y)"
   ]
  },
  {
   "cell_type": "markdown",
   "id": "d3b54c66-c422-46a6-9624-e8776d6f4361",
   "metadata": {},
   "source": [
    "An ODE is $\\mathbf{linear}$ if it can be expressed in the form:<br>\n",
    "\\begin{align*}\n",
    "a_n(x)\\frac{d^ny}{dx^n}+a_{n-1}(x)\\frac{d^{n-1}y}{dx^{n-1}}+...+a_2(x)\\frac{d^2y}{dx^2}+a_1(x)\\frac{dy}{dx}+a_0(y)=g(x)\n",
    "\\end{align*}\n",
    "Example:\n",
    "\\begin{align*}\n",
    "x^2\\frac{d^2y}{dx^2}-x\\frac{dy}{dx}-\\frac{2y}{x}=3\\sqrt{x}\n",
    "\\end{align*}\n",
    "The equation is also $\\mathbf{homogeneous}$ if $g(x)=0$ and the ODE is second-order or more and if $f(tx,ty)=t^\\alpha(x,y)$ for first-order.<br>\n",
    "First-order Example:\n",
    "\\begin{align*}\n",
    "f(x,y)&=x^2-xy\\\\\n",
    "f(tx,ty)&=(tx)^2-(tx)(ty)= t^2x^2-t^2xy=t^2(x^2-xy)=t^2f(x,y)\n",
    "\\end{align*}"
   ]
  },
  {
   "cell_type": "markdown",
   "id": "26816c3e-e3c8-47e8-bba2-826b577787af",
   "metadata": {},
   "source": [
    "$\\mathbf{Non-linear}$ differential equations have a non-linear function of the dependent variable or one of its derivatives.<br>\n",
    "Examples:<br>\n",
    "\\begin{align*}\n",
    "\\frac{dy}{dx}=y^3 \\ \\ \\  , \\ \\ \\  \\frac{d^2y}{dx^2}+\\left(\\frac{dy}{dx}\\right)^2=1\n",
    "\\end{align*}"
   ]
  },
  {
   "cell_type": "markdown",
   "id": "6fd115e7-151e-4ecb-8d72-5fc269997329",
   "metadata": {},
   "source": [
    "The $\\mathbf{standard \\ form}$ of a first-order ODE is:\n",
    "\\begin{align*}\n",
    "\\frac{dy}{dx}=f(x,y)\n",
    "\\end{align*}\n",
    "Example:\n",
    "\\begin{align*}\n",
    "\\frac{dy}{dx}=y^2\\sqrt{x}\n",
    "\\end{align*}"
   ]
  },
  {
   "cell_type": "markdown",
   "id": "d329dbaa-5e77-4974-81c0-c2ac4d4b879c",
   "metadata": {},
   "source": [
    "The $\\mathbf{differential\\ form}$ of a first-order ODE is:\n",
    "\\begin{align*}\n",
    "M(x,y)dx+N(x,y)dy=0\n",
    "\\end{align*}\n",
    "where $M$ and $N$ are each functions of $x$ and $y$.<br>\n",
    "Example:\n",
    "\\begin{align*}\n",
    "x^3dx +xy\\ dy=0\n",
    "\\end{align*}"
   ]
  },
  {
   "cell_type": "markdown",
   "id": "b53dbc6d-ba9f-4394-9892-45b9f3f26c2d",
   "metadata": {},
   "source": [
    "A first-order  differnetial equation is $\\mathbf{seperable}$ if:\n",
    "\\begin{align*}\n",
    "A(x)dx=B(y)dy\n",
    "\\end{align*}\n",
    "Example:\n",
    "\\begin{align*}\n",
    "x^4\\ dx = y^2\\ dy\n",
    "\\end{align*}"
   ]
  },
  {
   "cell_type": "markdown",
   "id": "13a45f3c-9eb5-4686-98b2-15454cf0be09",
   "metadata": {},
   "source": [
    "A differential equation is $\\mathbf{autonomous}$ if the independent variable does not appear explicitly.<br>\n",
    "Example:\n",
    "\\begin{align*}\n",
    "\\frac{d^2y}{dx^2}-2\\frac{dy}{dx}+3y=1\n",
    "\\end{align*}\n",
    "Observe that $x$ is not in the equation."
   ]
  }
 ],
 "metadata": {
  "kernelspec": {
   "display_name": "MathMethodsForPhysics_venv",
   "language": "python",
   "name": "mathmethodsforphysics_venv"
  },
  "language_info": {
   "codemirror_mode": {
    "name": "ipython",
    "version": 3
   },
   "file_extension": ".py",
   "mimetype": "text/x-python",
   "name": "python",
   "nbconvert_exporter": "python",
   "pygments_lexer": "ipython3",
   "version": "3.10.14"
  }
 },
 "nbformat": 4,
 "nbformat_minor": 5
}
