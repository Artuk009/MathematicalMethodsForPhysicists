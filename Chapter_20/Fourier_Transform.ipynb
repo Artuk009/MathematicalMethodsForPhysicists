{
 "cells": [
  {
   "cell_type": "code",
   "execution_count": 1,
   "id": "19832d1b-969b-4799-b4a2-56d9c8560cdf",
   "metadata": {},
   "outputs": [
    {
     "data": {
      "application/javascript": [
       "// Copyright (c) Microsoft Corporation.\n",
       "// Licensed under the MIT License.\n",
       "\n",
       "// This file provides CodeMirror syntax highlighting for Q# magic cells\n",
       "// in classic Jupyter Notebooks. It does nothing in other (Jupyter Notebook 7,\n",
       "// VS Code, Azure Notebooks, etc.) environments.\n",
       "\n",
       "// Detect the prerequisites and do nothing if they don't exist.\n",
       "if (window.require && window.CodeMirror && window.Jupyter) {\n",
       "  // The simple mode plugin for CodeMirror is not loaded by default, so require it.\n",
       "  window.require([\"codemirror/addon/mode/simple\"], function defineMode() {\n",
       "    let rules = [\n",
       "      {\n",
       "        token: \"comment\",\n",
       "        regex: /(\\/\\/).*/,\n",
       "        beginWord: false,\n",
       "      },\n",
       "      {\n",
       "        token: \"string\",\n",
       "        regex: String.raw`^\\\"(?:[^\\\"\\\\]|\\\\[\\s\\S])*(?:\\\"|$)`,\n",
       "        beginWord: false,\n",
       "      },\n",
       "      {\n",
       "        token: \"keyword\",\n",
       "        regex: String.raw`(namespace|open|as|operation|function|body|adjoint|newtype|controlled|internal)\\b`,\n",
       "        beginWord: true,\n",
       "      },\n",
       "      {\n",
       "        token: \"keyword\",\n",
       "        regex: String.raw`(if|elif|else|repeat|until|fixup|for|in|return|fail|within|apply)\\b`,\n",
       "        beginWord: true,\n",
       "      },\n",
       "      {\n",
       "        token: \"keyword\",\n",
       "        regex: String.raw`(Adjoint|Controlled|Adj|Ctl|is|self|auto|distribute|invert|intrinsic)\\b`,\n",
       "        beginWord: true,\n",
       "      },\n",
       "      {\n",
       "        token: \"keyword\",\n",
       "        regex: String.raw`(let|set|use|borrow|mutable)\\b`,\n",
       "        beginWord: true,\n",
       "      },\n",
       "      {\n",
       "        token: \"operatorKeyword\",\n",
       "        regex: String.raw`(not|and|or)\\b|(w/)`,\n",
       "        beginWord: true,\n",
       "      },\n",
       "      {\n",
       "        token: \"operatorKeyword\",\n",
       "        regex: String.raw`(=)|(!)|(<)|(>)|(\\+)|(-)|(\\*)|(/)|(\\^)|(%)|(\\|)|(&&&)|(~~~)|(\\.\\.\\.)|(\\.\\.)|(\\?)`,\n",
       "        beginWord: false,\n",
       "      },\n",
       "      {\n",
       "        token: \"meta\",\n",
       "        regex: String.raw`(Int|BigInt|Double|Bool|Qubit|Pauli|Result|Range|String|Unit)\\b`,\n",
       "        beginWord: true,\n",
       "      },\n",
       "      {\n",
       "        token: \"atom\",\n",
       "        regex: String.raw`(true|false|Pauli(I|X|Y|Z)|One|Zero)\\b`,\n",
       "        beginWord: true,\n",
       "      },\n",
       "    ];\n",
       "    let simpleRules = [];\n",
       "    for (let rule of rules) {\n",
       "      simpleRules.push({\n",
       "        token: rule.token,\n",
       "        regex: new RegExp(rule.regex, \"g\"),\n",
       "        sol: rule.beginWord,\n",
       "      });\n",
       "      if (rule.beginWord) {\n",
       "        // Need an additional rule due to the fact that CodeMirror simple mode doesn't work with ^ token\n",
       "        simpleRules.push({\n",
       "          token: rule.token,\n",
       "          regex: new RegExp(String.raw`\\W` + rule.regex, \"g\"),\n",
       "          sol: false,\n",
       "        });\n",
       "      }\n",
       "    }\n",
       "\n",
       "    // Register the mode defined above with CodeMirror\n",
       "    window.CodeMirror.defineSimpleMode(\"qsharp\", { start: simpleRules });\n",
       "    window.CodeMirror.defineMIME(\"text/x-qsharp\", \"qsharp\");\n",
       "\n",
       "    // Tell Jupyter to associate %%qsharp magic cells with the qsharp mode\n",
       "    window.Jupyter.CodeCell.options_default.highlight_modes[\"qsharp\"] = {\n",
       "      reg: [/^%%qsharp/],\n",
       "    };\n",
       "\n",
       "    // Force re-highlighting of all cells the first time this code runs\n",
       "    for (const cell of window.Jupyter.notebook.get_cells()) {\n",
       "      cell.auto_highlight();\n",
       "    }\n",
       "  });\n",
       "}\n"
      ],
      "text/plain": []
     },
     "metadata": {},
     "output_type": "display_data"
    }
   ],
   "source": [
    "# Author: Brent Artuch\n",
    "# Date: 2024-10-26\n",
    "\n",
    "import sympy as sp\n",
    "import numpy as np\n",
    "from IPython.display import *\n",
    "\n",
    "sp.init_printing()"
   ]
  },
  {
   "cell_type": "markdown",
   "id": "5ef3c4f5-348f-4a97-b651-bbf75e82da77",
   "metadata": {},
   "source": [
    "## Classical Continuous Fourier Transform\n",
    "The general Fourier transform takes the form:\n",
    "\\begin{align*}\n",
    "g(\\omega)=\\frac{1}{\\sqrt{2\\pi}}\\int_{-\\infty}^{\\infty}f(t)e^{i\\omega t}dt\n",
    "\\end{align*}"
   ]
  },
  {
   "cell_type": "markdown",
   "id": "e0b77b01-ce87-4edd-b417-94522d6f7f05",
   "metadata": {},
   "source": [
    "The Fourier $\\mathbf{cosine}$ transform (for $\\mathbf{even}$ functions of $x$) is denoted:\n",
    "\\begin{align*}\n",
    "g_c(\\omega)=\\sqrt{\\frac{2}{\\pi}}\\int_{0}^{\\infty}f(t)\\cos(\\omega t)dt\n",
    "\\end{align*}"
   ]
  },
  {
   "cell_type": "markdown",
   "id": "136c0098-c71e-4cfa-80f3-eb75f9374d41",
   "metadata": {},
   "source": [
    "The Fourier $\\mathbf{sine}$ transform (for $\\mathbf{odd}$ functions of $x$) is denoted:\n",
    "\\begin{align*}\n",
    "g_s(\\omega)=\\sqrt{\\frac{2}{\\pi}}\\int_{0}^{\\infty}f(t)\\sin(\\omega t)dt\n",
    "\\end{align*}"
   ]
  },
  {
   "cell_type": "markdown",
   "id": "d62d06a9-6cd3-4e88-bd73-acaec18e6ddd",
   "metadata": {},
   "source": [
    "The $\\mathbf{inverse}$ of each of these functions is:\n",
    "\\begin{align*}\n",
    "f(t)=\\frac{1}{\\sqrt{2\\pi}}\\int_{-\\infty}^{\\infty}g(\\omega)e^{-i\\omega t}d\\omega\\\\\\\\\n",
    "f_c(t)=\\sqrt{\\frac{2}{\\pi}}\\int_{0}^{\\infty}g(\\omega)\\cos(\\omega t)d\\omega\\\\\\\\\n",
    "f_s(t)=\\sqrt{\\frac{2}{\\pi}}\\int_{0}^{\\infty}g(\\omega)\\sin(\\omega t)d\\omega\\\\\n",
    "\\end{align*}\n",
    "for $0 \\le t < \\infty$."
   ]
  },
  {
   "cell_type": "markdown",
   "id": "b1098260-d4cb-4a74-9fdf-9bc706a9a894",
   "metadata": {},
   "source": [
    "The fourier transform is a highly effective technique for measuring wave patterns and is useful in applications such as signal processing and sound mechanics."
   ]
  }
 ],
 "metadata": {
  "kernelspec": {
   "display_name": "Quantum_Computing_venv",
   "language": "python",
   "name": "quantum_computing_venv"
  },
  "language_info": {
   "codemirror_mode": {
    "name": "ipython",
    "version": 3
   },
   "file_extension": ".py",
   "mimetype": "text/x-python",
   "name": "python",
   "nbconvert_exporter": "python",
   "pygments_lexer": "ipython3",
   "version": "3.12.7"
  }
 },
 "nbformat": 4,
 "nbformat_minor": 5
}
