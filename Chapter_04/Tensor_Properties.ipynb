{
 "cells": [
  {
   "cell_type": "code",
   "execution_count": 1,
   "id": "9041d39d-d591-404b-8e1b-836ffebc55f8",
   "metadata": {},
   "outputs": [],
   "source": [
    "# Author: Brent Artuch\n",
    "# Date: 2024-11-09"
   ]
  },
  {
   "cell_type": "markdown",
   "id": "271cb0e8-4af6-4622-9264-d019ee9dc7ac",
   "metadata": {},
   "source": [
    "## Rank\n",
    "* A $\\mathbf{Rank\\ 0}$ tenosr is simply a scalar ($a$ as an example).\n",
    "* A $\\mathbf{Rank\\ 1}$ tenosr is a vector with a single index annotiation (i.e. $\\mathbf{A}_k$ or $\\mathbf{A}^k$).\n",
    "* A $\\mathbf{Rank\\ 2}$ tenosr is a matrix with two index annotiations (i.e. $\\mathbf{A}_{ij}$, $\\mathbf{A}^{ij}$, or $\\mathbf{A}_{j}^{i}$).<br>\n",
    "Note: Further detail on superscripts vs subscripts will be discussed in later sections. "
   ]
  },
  {
   "cell_type": "markdown",
   "id": "b8fc6e9d-c30d-41a2-bce9-0ea3a0059618",
   "metadata": {},
   "source": [
    "So we can say that a tensor labeled by $n$ indices with values 1 through $d$ has $\\mathbf{Rank\\ n}$ with $d^n$ components.<br><br> Example: A $3\\times 3$ matrix has max index $3$ with $2$ index labels and, therefore, $3^2=9$ components.    \n",
    "\\begin{align*}\n",
    "A_{ij}=\n",
    "\\begin{pmatrix}\n",
    "A_{11} & A_{12} & A_{13} \\\\\n",
    "A_{21} & A_{22} & A_{23} \\\\\n",
    "A_{31} & A_{32} & A_{33} \\\\\n",
    "\\end{pmatrix}\\ , \\\n",
    "A^{ij}=\n",
    "\\begin{pmatrix}\n",
    "A^{11} & A^{12} & A^{13} \\\\\n",
    "A^{21} & A^{22} & A^{23} \\\\\n",
    "A^{31} & A^{32} & A^{33} \\\\\n",
    "\\end{pmatrix}\\ , \\\n",
    "A^i_j=\n",
    "\\begin{pmatrix}\n",
    "A^1_1 & A^1_2 & A^1_3 \\\\\n",
    "A^2_1 & A^2_2 & A^2_3 \\\\\n",
    "A^3_1 & A^3_2 & A^3_3 \\\\\n",
    "\\end{pmatrix}\n",
    "\\end{align*}"
   ]
  }
 ],
 "metadata": {
  "kernelspec": {
   "display_name": "MathMethodsForPhysics_venv",
   "language": "python",
   "name": "mathmethodsforphysics_venv"
  },
  "language_info": {
   "codemirror_mode": {
    "name": "ipython",
    "version": 3
   },
   "file_extension": ".py",
   "mimetype": "text/x-python",
   "name": "python",
   "nbconvert_exporter": "python",
   "pygments_lexer": "ipython3",
   "version": "3.10.14"
  }
 },
 "nbformat": 4,
 "nbformat_minor": 5
}
