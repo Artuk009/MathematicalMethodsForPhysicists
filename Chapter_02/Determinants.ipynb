{
 "cells": [
  {
   "cell_type": "code",
   "execution_count": 1,
   "id": "d338d766-65d7-4f88-9cff-8242c6190ee5",
   "metadata": {},
   "outputs": [],
   "source": [
    "# Author: Brent Artuch\n",
    "# Date: 2024-10-19\n",
    "\n",
    "import sympy as sp\n",
    "import numpy as np\n",
    "\n",
    "sp.init_printing()"
   ]
  },
  {
   "cell_type": "markdown",
   "id": "dd78af12-f9ca-4131-a522-1373e994fd4c",
   "metadata": {},
   "source": [
    "## Finding the Determinant of a Square Matrix\n",
    "Given a simple square 2x2 matrix:<br>\n",
    "\\begin{align*}\n",
    "A=\\begin{bmatrix} a & b \\\\ c & d\\end{bmatrix}\n",
    "\\end{align*}\n",
    "The determinant of $A$ is:\n",
    "\\begin{align*}\n",
    "det(A)=\\left|\\begin{matrix} a & b \\\\ c & d\\end{matrix}\\right|=ad-bc\n",
    "\\end{align*}"
   ]
  },
  {
   "cell_type": "markdown",
   "id": "018bc84b-f588-4735-a48b-5475ef48e369",
   "metadata": {},
   "source": [
    "Example:<br>\n",
    "\\begin{align*}\n",
    "A=\\begin{bmatrix} 2 & 1 \\\\ -6 & 4 \\end{bmatrix}\n",
    "\\end{align*}\n",
    "\\begin{align*}\n",
    "det(A)=\\left|\\begin{matrix} 2 & 1 \\\\ -6 & 4 \\end{matrix}\\right|=[2(4)]-[1(-6)]=14\n",
    "\\end{align*}"
   ]
  },
  {
   "cell_type": "code",
   "execution_count": 2,
   "id": "6fcde4bd-5a98-485f-8fb6-65dbc760ea36",
   "metadata": {},
   "outputs": [
    {
     "data": {
      "image/png": "[encoded data removed]",
      "text/latex": [
       "$\\displaystyle 14$"
      ],
      "text/plain": [
       "14"
      ]
     },
     "execution_count": 2,
     "metadata": {},
     "output_type": "execute_result"
    }
   ],
   "source": [
    "# With Python\n",
    "A = sp.Matrix([\n",
    "    [2, 1],\n",
    "    [-6,4]\n",
    "])\n",
    "A.det()"
   ]
  }
 ],
 "metadata": {
  "kernelspec": {
   "display_name": "Math_Methods_Phys_venv",
   "language": "python",
   "name": "math_methods_phys_venv"
  },
  "language_info": {
   "codemirror_mode": {
    "name": "ipython",
    "version": 3
   },
   "file_extension": ".py",
   "mimetype": "text/x-python",
   "name": "python",
   "nbconvert_exporter": "python",
   "pygments_lexer": "ipython3",
   "version": "3.12.7"
  }
 },
 "nbformat": 4,
 "nbformat_minor": 5
}
