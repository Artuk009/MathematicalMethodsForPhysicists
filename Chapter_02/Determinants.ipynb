{
 "cells": [
  {
   "cell_type": "code",
   "execution_count": 1,
   "id": "d338d766-65d7-4f88-9cff-8242c6190ee5",
   "metadata": {},
   "outputs": [],
   "source": [
    "# Author: Brent Artuch\n",
    "# Date: 2024-10-19\n",
    "\n",
    "import sympy as sp\n",
    "import numpy as np\n",
    "\n",
    "sp.init_printing()"
   ]
  },
  {
   "cell_type": "markdown",
   "id": "dd78af12-f9ca-4131-a522-1373e994fd4c",
   "metadata": {},
   "source": [
    "## Finding the Determinant of a Square Matrix\n",
    "Given a simple square 2x2 (Order 2) matrix:<br>\n",
    "\\begin{align*}\n",
    "A=\\begin{bmatrix} a & b \\\\ c & d\\end{bmatrix}\n",
    "\\end{align*}\n",
    "The determinant of $A$ is:\n",
    "\\begin{align*}\n",
    "det(A)&=\\left|\\begin{matrix} a & b \\\\ c & d\\end{matrix}\\right|=ad-bc\\\\\n",
    "&=\\sum_{j=1}^n(-1)^{i+j}a_{ij}M_{ij}\n",
    "\\end{align*}\n",
    "which is the $\\mathbf{Laplace\\ Expansion}$ where $M_{ij}$ is the minor matrix which is defined to be the determinant of the $(n-1)\\times(n-1)$ matrix that results from $A$ by removing the $i$th row and $j$th column.<br>\n",
    "Note: in the 2x2 case this simply results in $ad-bc$"
   ]
  },
  {
   "cell_type": "markdown",
   "id": "018bc84b-f588-4735-a48b-5475ef48e369",
   "metadata": {},
   "source": [
    "Example:<br>\n",
    "\\begin{align*}\n",
    "A=\\begin{bmatrix} 2 & 1 \\\\ -6 & 4 \\end{bmatrix}\n",
    "\\end{align*}\n",
    "\\begin{align*}\n",
    "det(A)=\\left|\\begin{matrix} 2 & 1 \\\\ -6 & 4 \\end{matrix}\\right|=[2(4)]-[1(-6)]=14\n",
    "\\end{align*}"
   ]
  },
  {
   "cell_type": "code",
   "execution_count": 2,
   "id": "6fcde4bd-5a98-485f-8fb6-65dbc760ea36",
   "metadata": {},
   "outputs": [
    {
     "data": {
      "image/png": "[encoded data removed]",
      "text/latex": [
       "$\\displaystyle 14$"
      ],
      "text/plain": [
       "14"
      ]
     },
     "execution_count": 2,
     "metadata": {},
     "output_type": "execute_result"
    }
   ],
   "source": [
    "# With Python\n",
    "A = sp.Matrix([\n",
    "    [2, 1],\n",
    "    [-6,4]\n",
    "])\n",
    "A.det()"
   ]
  },
  {
   "cell_type": "markdown",
   "id": "249661c7-6d97-448d-9bdb-02a96878b001",
   "metadata": {},
   "source": [
    "Given a square 3x3 (Order 3) matrix:<br>\n",
    "\\begin{align*}\n",
    "A=\\begin{bmatrix} a_1 & a_2 & a_3 \\\\ b_1 & b_2 & b_3 \\\\ c_1 & c_2 & c_3 \\end{bmatrix}\n",
    "\\end{align*}\n",
    "The determinant of $A$ is:\n",
    "\\begin{align*}\n",
    "det(A)&=a_1\\left|\\begin{matrix} b_2 & b_3 \\\\ c_2 & c_3 \\end{matrix}\\right|-a_2\\left|\\begin{matrix} b_1 & b_3 \\\\ c_1 & c_3 \\end{matrix}\\right|+a_3\\left|\\begin{matrix} b_1 & b_2 \\\\ c_1 & c_2 \\end{matrix}\\right|\\\\ \n",
    "\\\\\n",
    "&=a_1(b_2c_3-b_3c_2)-a_2(b_1c_3-b_3c_1)+a_3(b_1c_2-b_2c_1)\\\\\n",
    "&=\\sum_{j=1}^n(-1)^{i+j}a_{ij}M_{ij}\n",
    "\\end{align*}\n"
   ]
  },
  {
   "cell_type": "markdown",
   "id": "233e1c54-c061-466e-bc46-e7f322e2e13e",
   "metadata": {},
   "source": [
    "Example:<br>\n",
    "\\begin{align*}\n",
    "A=\\begin{bmatrix} 1 & 2 & -1 \\\\ 3 & 0 & 1 \\\\ -5 & 4 & 2 \\end{bmatrix}\n",
    "\\end{align*}\n",
    "\\begin{align*}\n",
    "det(A)&=1\\left|\\begin{matrix} 0 & 1 \\\\ 4 & 2 \\end{matrix}\\right|-2\\left|\\begin{matrix} 3 & 1 \\\\ -5 & 2 \\end{matrix}\\right|+(-1)\\left|\\begin{matrix} 3 & 0 \\\\ -5 & 4 \\end{matrix}\\right|\\\\ \n",
    "\\\\\n",
    "&=1[(0)(2)-(1)(4)]-2[(3)(2)-(1)(-5)]+(-1)[(3)(4)-(0)(-5)]\\\\\n",
    "\\\\\n",
    "&=1(-4)-2(11)+(-1)(12)=-38\n",
    "\\end{align*}"
   ]
  },
  {
   "cell_type": "code",
   "execution_count": 4,
   "id": "a4d79d61-844d-4e8d-85b6-d5307b67144d",
   "metadata": {},
   "outputs": [
    {
     "data": {
      "image/png": "[encoded data removed]",
      "text/latex": [
       "$\\displaystyle -38$"
      ],
      "text/plain": [
       "-38"
      ]
     },
     "execution_count": 4,
     "metadata": {},
     "output_type": "execute_result"
    }
   ],
   "source": [
    "# With Python\n",
    "A = sp.Matrix([\n",
    "    [ 1, 2, -1],\n",
    "    [ 3, 0,  1],\n",
    "    [-5, 4,  2]\n",
    "])\n",
    "A.det()"
   ]
  },
  {
   "cell_type": "markdown",
   "id": "a7091062-4ef0-4bee-b066-02929ed8f99c",
   "metadata": {},
   "source": [
    "The Laplace Expansion can be applied to find the determinant of any $n\\times n$  matrix for all values of $n \\in \\mathbb{Z}^+$"
   ]
  },
  {
   "cell_type": "markdown",
   "id": "38687f62-a551-4446-8ec7-ff8aaa17f971",
   "metadata": {},
   "source": [
    "## Determining Linear Independence\n",
    "We can determine the linear independence of a set of vectors that form a square matrix using determinants:\n",
    "\\begin{align*}\n",
    "\\vec{a}=\\begin{bmatrix} a \\\\ c \\end{bmatrix}, \\ \\vec{b}=\\begin{bmatrix} b \\\\ d \\end{bmatrix}\n",
    "\\end{align*}\n",
    "Form a matrix with the vectors and take their determinant:\n",
    "\\begin{align*}\n",
    "det(A)=\\left|\\begin{matrix} a & b \\\\ c & d \\end{matrix}\\right|=ad-bc\n",
    "\\end{align*}\n",
    "If $det(A)\\not = 0$, then the vectors $\\vec{a}$  and $\\vec{b}$ are linearly independent.<br>\n",
    "<br>\n",
    "In terms of the Laplace Expansion, we can say that matrix $A$ formed by the vectors $\\vec{a}$ and $\\vec{b}$ are linearly indepent if:\n",
    "\\begin{align*}\n",
    "det(A)=\\sum_{j=1}^n(-1)^{i+j}a_{ij}M_{ij}\\not = 0\n",
    "\\end{align*}"
   ]
  }
 ],
 "metadata": {
  "kernelspec": {
   "display_name": "Math_Methods_Phys_venv",
   "language": "python",
   "name": "math_methods_phys_venv"
  },
  "language_info": {
   "codemirror_mode": {
    "name": "ipython",
    "version": 3
   },
   "file_extension": ".py",
   "mimetype": "text/x-python",
   "name": "python",
   "nbconvert_exporter": "python",
   "pygments_lexer": "ipython3",
   "version": "3.12.7"
  }
 },
 "nbformat": 4,
 "nbformat_minor": 5
}
